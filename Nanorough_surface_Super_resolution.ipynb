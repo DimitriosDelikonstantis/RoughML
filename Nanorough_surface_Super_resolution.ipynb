{
  "nbformat": 4,
  "nbformat_minor": 5,
  "metadata": {
    "jupytext": {
      "encoding": "# -*- coding: utf-8 -*-",
      "formats": "ipynb,py:light",
      "main_language": "python"
    },
    "kernelspec": {
      "display_name": "Python 3",
      "name": "python3"
    },
    "colab": {
      "name": "Nanorough_surface_Super_resolution.ipynb",
      "provenance": [],
      "toc_visible": true,
      "include_colab_link": true
    }
  },
  "cells": [
    {
      "cell_type": "markdown",
      "metadata": {
        "id": "view-in-github",
        "colab_type": "text"
      },
      "source": [
        "<a href=\"https://colab.research.google.com/github/billsioros/thesis/blob/master/Nanorough_surface_Super_resolution.ipynb\" target=\"_parent\"><img src=\"https://colab.research.google.com/assets/colab-badge.svg\" alt=\"Open In Colab\"/></a>"
      ]
    },
    {
      "cell_type": "markdown",
      "metadata": {
        "id": "cce26209"
      },
      "source": [
        "# ✔️ Prerequisites"
      ],
      "id": "cce26209"
    },
    {
      "cell_type": "markdown",
      "metadata": {
        "id": "affab565"
      },
      "source": [
        "First of all we need to take care of a few **prerequisites**, most notably:\n",
        "\n",
        "- Install the various pip modules that we will be using.\n",
        "- Install some linux specific dependencies of our [content loss](#content-loss).\n",
        "- Initialize the Random Number Generator(s), so that our experiments can be replicated.\n",
        "- Determine:\n",
        "  - The current working directory, as it's going to be used to reference various files such as the dataset, our model checkpoints e.t.c\n",
        "  - The available hardware backend. GPU utilization is preferable, as it results in higher complition time.\n",
        "- `(Optionally)` Mount Google Drive, where we can load our dataset from."
      ],
      "id": "affab565"
    },
    {
      "cell_type": "markdown",
      "metadata": {
        "id": "16a902e2"
      },
      "source": [
        "## Installing [graphviz](https://graphviz.org/) & [libgraphviz-dev](https://packages.debian.org/jessie/libgraphviz-dev)"
      ],
      "id": "16a902e2"
    },
    {
      "cell_type": "markdown",
      "metadata": {
        "id": "8c0cdd85"
      },
      "source": [
        "The aforementioned packages are required by [PyINSECT](https://github.com/billsioros/PyINSECT/tree/implementing-HPGs) and more specifically its graph plotting methods."
      ],
      "id": "8c0cdd85"
    },
    {
      "cell_type": "code",
      "metadata": {
        "cellView": "code",
        "colab": {
          "base_uri": "https://localhost:8080/"
        },
        "id": "919734ca",
        "outputId": "fd43fbde-ade3-4225-c24e-e950d0baab55"
      },
      "source": [
        "!sudo apt-get install graphviz libgraphviz-dev"
      ],
      "id": "919734ca",
      "execution_count": 1,
      "outputs": [
        {
          "output_type": "stream",
          "text": [
            "Reading package lists... Done\n",
            "Building dependency tree       \n",
            "Reading state information... Done\n",
            "graphviz is already the newest version (2.40.1-2).\n",
            "The following additional packages will be installed:\n",
            "  libgail-common libgail18 libgtk2.0-0 libgtk2.0-bin libgtk2.0-common\n",
            "  libgvc6-plugins-gtk libxdot4\n",
            "Suggested packages:\n",
            "  gvfs\n",
            "The following NEW packages will be installed:\n",
            "  libgail-common libgail18 libgraphviz-dev libgtk2.0-0 libgtk2.0-bin\n",
            "  libgtk2.0-common libgvc6-plugins-gtk libxdot4\n",
            "0 upgraded, 8 newly installed, 0 to remove and 39 not upgraded.\n",
            "Need to get 2,120 kB of archives.\n",
            "After this operation, 7,128 kB of additional disk space will be used.\n",
            "Get:1 http://archive.ubuntu.com/ubuntu bionic/main amd64 libgtk2.0-common all 2.24.32-1ubuntu1 [125 kB]\n",
            "Get:2 http://archive.ubuntu.com/ubuntu bionic/main amd64 libgtk2.0-0 amd64 2.24.32-1ubuntu1 [1,769 kB]\n",
            "Get:3 http://archive.ubuntu.com/ubuntu bionic/main amd64 libgail18 amd64 2.24.32-1ubuntu1 [14.2 kB]\n",
            "Get:4 http://archive.ubuntu.com/ubuntu bionic/main amd64 libgail-common amd64 2.24.32-1ubuntu1 [112 kB]\n",
            "Get:5 http://archive.ubuntu.com/ubuntu bionic/universe amd64 libxdot4 amd64 2.40.1-2 [15.7 kB]\n",
            "Get:6 http://archive.ubuntu.com/ubuntu bionic/universe amd64 libgvc6-plugins-gtk amd64 2.40.1-2 [18.2 kB]\n",
            "Get:7 http://archive.ubuntu.com/ubuntu bionic/universe amd64 libgraphviz-dev amd64 2.40.1-2 [57.3 kB]\n",
            "Get:8 http://archive.ubuntu.com/ubuntu bionic/main amd64 libgtk2.0-bin amd64 2.24.32-1ubuntu1 [7,536 B]\n",
            "Fetched 2,120 kB in 1s (1,782 kB/s)\n",
            "debconf: unable to initialize frontend: Dialog\n",
            "debconf: (No usable dialog-like program is installed, so the dialog based frontend cannot be used. at /usr/share/perl5/Debconf/FrontEnd/Dialog.pm line 76, <> line 8.)\n",
            "debconf: falling back to frontend: Readline\n",
            "debconf: unable to initialize frontend: Readline\n",
            "debconf: (This frontend requires a controlling tty.)\n",
            "debconf: falling back to frontend: Teletype\n",
            "dpkg-preconfigure: unable to re-open stdin: \n",
            "Selecting previously unselected package libgtk2.0-common.\n",
            "(Reading database ... 160772 files and directories currently installed.)\n",
            "Preparing to unpack .../0-libgtk2.0-common_2.24.32-1ubuntu1_all.deb ...\n",
            "Unpacking libgtk2.0-common (2.24.32-1ubuntu1) ...\n",
            "Selecting previously unselected package libgtk2.0-0:amd64.\n",
            "Preparing to unpack .../1-libgtk2.0-0_2.24.32-1ubuntu1_amd64.deb ...\n",
            "Unpacking libgtk2.0-0:amd64 (2.24.32-1ubuntu1) ...\n",
            "Selecting previously unselected package libgail18:amd64.\n",
            "Preparing to unpack .../2-libgail18_2.24.32-1ubuntu1_amd64.deb ...\n",
            "Unpacking libgail18:amd64 (2.24.32-1ubuntu1) ...\n",
            "Selecting previously unselected package libgail-common:amd64.\n",
            "Preparing to unpack .../3-libgail-common_2.24.32-1ubuntu1_amd64.deb ...\n",
            "Unpacking libgail-common:amd64 (2.24.32-1ubuntu1) ...\n",
            "Selecting previously unselected package libxdot4.\n",
            "Preparing to unpack .../4-libxdot4_2.40.1-2_amd64.deb ...\n",
            "Unpacking libxdot4 (2.40.1-2) ...\n",
            "Selecting previously unselected package libgvc6-plugins-gtk.\n",
            "Preparing to unpack .../5-libgvc6-plugins-gtk_2.40.1-2_amd64.deb ...\n",
            "Unpacking libgvc6-plugins-gtk (2.40.1-2) ...\n",
            "Selecting previously unselected package libgraphviz-dev.\n",
            "Preparing to unpack .../6-libgraphviz-dev_2.40.1-2_amd64.deb ...\n",
            "Unpacking libgraphviz-dev (2.40.1-2) ...\n",
            "Selecting previously unselected package libgtk2.0-bin.\n",
            "Preparing to unpack .../7-libgtk2.0-bin_2.24.32-1ubuntu1_amd64.deb ...\n",
            "Unpacking libgtk2.0-bin (2.24.32-1ubuntu1) ...\n",
            "Setting up libgtk2.0-common (2.24.32-1ubuntu1) ...\n",
            "Setting up libxdot4 (2.40.1-2) ...\n",
            "Setting up libgtk2.0-0:amd64 (2.24.32-1ubuntu1) ...\n",
            "Setting up libgail18:amd64 (2.24.32-1ubuntu1) ...\n",
            "Setting up libgail-common:amd64 (2.24.32-1ubuntu1) ...\n",
            "Setting up libgvc6-plugins-gtk (2.40.1-2) ...\n",
            "Setting up libgraphviz-dev (2.40.1-2) ...\n",
            "Setting up libgtk2.0-bin (2.24.32-1ubuntu1) ...\n",
            "Processing triggers for man-db (2.8.3-2ubuntu0.1) ...\n",
            "Processing triggers for libc-bin (2.27-3ubuntu1.2) ...\n",
            "/sbin/ldconfig.real: /usr/local/lib/python3.7/dist-packages/ideep4py/lib/libmkldnn.so.0 is not a symbolic link\n",
            "\n"
          ],
          "name": "stdout"
        }
      ]
    },
    {
      "cell_type": "markdown",
      "metadata": {
        "id": "7f5668f4"
      },
      "source": [
        "## Installing the required `pip` modules"
      ],
      "id": "7f5668f4"
    },
    {
      "cell_type": "markdown",
      "metadata": {
        "id": "aebad6f1"
      },
      "source": [
        "- [torch](https://pytorch.org/) is our machine learning framework of choice.\n",
        "- [numpy](https://numpy.org/), [sympy](https://www.sympy.org/en/index.html) and [scipy](https://www.scipy.org/) are used to in the context of nanorough surface generation.\n",
        "- [plotly](https://plotly.com/) (which requires [pandas](https://pandas.pydata.org/)) as well as [matplotlib](https://matplotlib.org/) are used in order to plot various graphs."
      ],
      "id": "aebad6f1"
    },
    {
      "cell_type": "code",
      "metadata": {
        "cellView": "code",
        "colab": {
          "base_uri": "https://localhost:8080/"
        },
        "id": "1057687b",
        "outputId": "15f921e0-f921-47ab-b4e2-8a355c422e54"
      },
      "source": [
        "!pip install torch numpy sympy scipy plotly pandas sklearn matplotlib==3.1.1 git+https://github.com/billsioros/PyINSECT.git@FEATURE_Implementing_HPGraphCollector git+https://github.com/billsioros/thesis.git"
      ],
      "id": "1057687b",
      "execution_count": 13,
      "outputs": [
        {
          "output_type": "stream",
          "text": [
            "Collecting git+https://****@github.com/billsioros/PyINSECT.git@FEATURE_Implementing_HPGraphCollector\n",
            "  Cloning https://****@github.com/billsioros/PyINSECT.git (to revision FEATURE_Implementing_HPGraphCollector) to /tmp/pip-req-build-znlw5e9i\n",
            "  Running command git clone -q 'https://****@github.com/billsioros/PyINSECT.git' /tmp/pip-req-build-znlw5e9i\n",
            "  Running command git checkout -b FEATURE_Implementing_HPGraphCollector --track origin/FEATURE_Implementing_HPGraphCollector\n",
            "  Switched to a new branch 'FEATURE_Implementing_HPGraphCollector'\n",
            "  Branch 'FEATURE_Implementing_HPGraphCollector' set up to track remote branch 'FEATURE_Implementing_HPGraphCollector' from 'origin'.\n",
            "Collecting git+https://github.com/billsioros/thesis.git\n",
            "  Cloning https://github.com/billsioros/thesis.git to /tmp/pip-req-build-mmq0uvgx\n",
            "  Running command git clone -q https://github.com/billsioros/thesis.git /tmp/pip-req-build-mmq0uvgx\n",
            "  fatal: could not read Username for 'https://github.com': No such device or address\n",
            "\u001b[31mERROR: Command errored out with exit status 128: git clone -q https://github.com/billsioros/thesis.git /tmp/pip-req-build-mmq0uvgx Check the logs for full command output.\u001b[0m\n"
          ],
          "name": "stdout"
        }
      ]
    },
    {
      "cell_type": "markdown",
      "metadata": {
        "id": "0192c059"
      },
      "source": [
        "## Initializing (a.k.a `Seeding`) the Random Number Generator(s)"
      ],
      "id": "0192c059"
    },
    {
      "cell_type": "markdown",
      "metadata": {
        "id": "fa44f756"
      },
      "source": [
        "We are required to seed various random number generation engines, so that our experiments can be replicated on a later date."
      ],
      "id": "fa44f756"
    },
    {
      "cell_type": "code",
      "metadata": {
        "cellView": "code",
        "id": "5daee8da"
      },
      "source": [
        "SEED = 1234\n",
        "\n",
        "import os\n",
        "import random\n",
        "\n",
        "import numpy as np"
      ],
      "id": "5daee8da",
      "execution_count": 3,
      "outputs": []
    },
    {
      "cell_type": "code",
      "metadata": {
        "cellView": "code",
        "id": "4d6c30c9"
      },
      "source": [
        "import torch\n",
        "\n",
        "if SEED is not None:\n",
        "    np.random.seed(SEED)\n",
        "    random.seed(SEED)\n",
        "    torch.manual_seed(SEED)\n",
        "    torch.cuda.manual_seed(SEED)\n",
        "    torch.backends.cudnn.deterministic = True\n",
        "    os.environ[\"PYTHONHASHSEED\"] = str(SEED)"
      ],
      "id": "4d6c30c9",
      "execution_count": 4,
      "outputs": []
    },
    {
      "cell_type": "markdown",
      "metadata": {
        "id": "19e0a6d0"
      },
      "source": [
        "## Determining the Current Working Directory"
      ],
      "id": "19e0a6d0"
    },
    {
      "cell_type": "code",
      "metadata": {
        "cellView": "code",
        "id": "945a9ccd"
      },
      "source": [
        "from pathlib import Path\n",
        "\n",
        "BASE_DIR = Path.cwd()"
      ],
      "id": "945a9ccd",
      "execution_count": 5,
      "outputs": []
    },
    {
      "cell_type": "markdown",
      "metadata": {
        "id": "94c4d99f"
      },
      "source": [
        "## Mounting Google Drive"
      ],
      "id": "94c4d99f"
    },
    {
      "cell_type": "code",
      "metadata": {
        "cellView": "code",
        "id": "12dcaea0"
      },
      "source": [
        "GDRIVE_DIR = BASE_DIR / \"drive\""
      ],
      "id": "12dcaea0",
      "execution_count": 6,
      "outputs": []
    },
    {
      "cell_type": "code",
      "metadata": {
        "cellView": "code",
        "colab": {
          "base_uri": "https://localhost:8080/"
        },
        "id": "e24f0051",
        "outputId": "63d677c9-6087-4045-8fa7-bdce4181473d"
      },
      "source": [
        "try:\n",
        "    from google.colab import drive\n",
        "\n",
        "    drive.mount(f\"{GDRIVE_DIR}\")\n",
        "except ImportError:\n",
        "    pass"
      ],
      "id": "e24f0051",
      "execution_count": 7,
      "outputs": [
        {
          "output_type": "stream",
          "text": [
            "Mounted at /content/drive\n"
          ],
          "name": "stdout"
        }
      ]
    },
    {
      "cell_type": "markdown",
      "metadata": {
        "id": "6fce8a2a"
      },
      "source": [
        "## Determining available backend"
      ],
      "id": "6fce8a2a"
    },
    {
      "cell_type": "markdown",
      "metadata": {
        "id": "5ca328f8"
      },
      "source": [
        "By default, we are going to be utilizing the available CPU backend, if no GPU is available."
      ],
      "id": "5ca328f8"
    },
    {
      "cell_type": "code",
      "metadata": {
        "cellView": "code",
        "id": "ebabd4a5"
      },
      "source": [
        "device = \"cpu\"\n",
        "if torch.cuda.is_available():\n",
        "    device = \"cuda:0\""
      ],
      "id": "ebabd4a5",
      "execution_count": 8,
      "outputs": []
    },
    {
      "cell_type": "code",
      "metadata": {
        "cellView": "code",
        "id": "520ba5c1"
      },
      "source": [
        "device = torch.device(device)"
      ],
      "id": "520ba5c1",
      "execution_count": 9,
      "outputs": []
    },
    {
      "cell_type": "markdown",
      "metadata": {
        "id": "64c09dfe"
      },
      "source": [
        "## Configuring our Loggers"
      ],
      "id": "64c09dfe"
    },
    {
      "cell_type": "code",
      "metadata": {
        "cellView": "code",
        "id": "5eea1ad8"
      },
      "source": [
        "import logging\n",
        "\n",
        "logging.basicConfig(\n",
        "    format=\"[%(asctime)s] %(levelname)s:%(name)s: %(message)s\", level=logging.CRITICAL\n",
        ")"
      ],
      "id": "5eea1ad8",
      "execution_count": 10,
      "outputs": []
    },
    {
      "cell_type": "code",
      "metadata": {
        "id": "b45114ef"
      },
      "source": [
        "logger = logging.getLogger()"
      ],
      "id": "b45114ef",
      "execution_count": 11,
      "outputs": []
    },
    {
      "cell_type": "markdown",
      "metadata": {
        "id": "60d78d1e"
      },
      "source": [
        "# 🙃 A naive-approach"
      ],
      "id": "60d78d1e"
    },
    {
      "cell_type": "markdown",
      "metadata": {
        "id": "ec374650"
      },
      "source": [
        "## Instantiating the **Generator** and the **Discriminator** Networks"
      ],
      "id": "ec374650"
    },
    {
      "cell_type": "code",
      "metadata": {
        "cellView": "code",
        "id": "d6594cb1",
        "outputId": "ef0da838-1378-4614-8c5a-ead42de77ebb",
        "colab": {
          "base_uri": "https://localhost:8080/",
          "height": 333
        }
      },
      "source": [
        "from roughml.models import PerceptronGenerator\n",
        "\n",
        "generator = PerceptronGenerator.from_device(device)"
      ],
      "id": "d6594cb1",
      "execution_count": 12,
      "outputs": [
        {
          "output_type": "error",
          "ename": "ModuleNotFoundError",
          "evalue": "ignored",
          "traceback": [
            "\u001b[0;31m---------------------------------------------------------------------------\u001b[0m",
            "\u001b[0;31mModuleNotFoundError\u001b[0m                       Traceback (most recent call last)",
            "\u001b[0;32m<ipython-input-12-6e3814b9e359>\u001b[0m in \u001b[0;36m<module>\u001b[0;34m()\u001b[0m\n\u001b[0;32m----> 1\u001b[0;31m \u001b[0;32mfrom\u001b[0m \u001b[0mroughml\u001b[0m\u001b[0;34m.\u001b[0m\u001b[0mmodels\u001b[0m \u001b[0;32mimport\u001b[0m \u001b[0mPerceptronGenerator\u001b[0m\u001b[0;34m\u001b[0m\u001b[0;34m\u001b[0m\u001b[0m\n\u001b[0m\u001b[1;32m      2\u001b[0m \u001b[0;34m\u001b[0m\u001b[0m\n\u001b[1;32m      3\u001b[0m \u001b[0mgenerator\u001b[0m \u001b[0;34m=\u001b[0m \u001b[0mPerceptronGenerator\u001b[0m\u001b[0;34m.\u001b[0m\u001b[0mfrom_device\u001b[0m\u001b[0;34m(\u001b[0m\u001b[0mdevice\u001b[0m\u001b[0;34m)\u001b[0m\u001b[0;34m\u001b[0m\u001b[0;34m\u001b[0m\u001b[0m\n",
            "\u001b[0;31mModuleNotFoundError\u001b[0m: No module named 'roughml'",
            "",
            "\u001b[0;31m---------------------------------------------------------------------------\u001b[0;32m\nNOTE: If your import is failing due to a missing package, you can\nmanually install dependencies using either !pip or !apt.\n\nTo view examples of installing some common dependencies, click the\n\"Open Examples\" button below.\n\u001b[0;31m---------------------------------------------------------------------------\u001b[0m\n"
          ]
        }
      ]
    },
    {
      "cell_type": "code",
      "metadata": {
        "cellView": "code",
        "id": "4bff3a44"
      },
      "source": [
        "generator"
      ],
      "id": "4bff3a44",
      "execution_count": null,
      "outputs": []
    },
    {
      "cell_type": "code",
      "metadata": {
        "cellView": "code",
        "id": "cac059ee"
      },
      "source": [
        "from roughml.models import PerceptronDiscriminator\n",
        "\n",
        "discriminator = PerceptronDiscriminator.from_generator(generator, device=device)"
      ],
      "id": "cac059ee",
      "execution_count": null,
      "outputs": []
    },
    {
      "cell_type": "code",
      "metadata": {
        "cellView": "code",
        "id": "64022987"
      },
      "source": [
        "discriminator"
      ],
      "id": "64022987",
      "execution_count": null,
      "outputs": []
    },
    {
      "cell_type": "markdown",
      "metadata": {
        "id": "eb813599"
      },
      "source": [
        "## Training"
      ],
      "id": "eb813599"
    },
    {
      "cell_type": "code",
      "metadata": {
        "cellView": "code",
        "id": "8a131c21"
      },
      "source": [
        "from torch.nn import BCELoss\n",
        "\n",
        "criterion = BCELoss().to(device)"
      ],
      "id": "8a131c21",
      "execution_count": null,
      "outputs": []
    },
    {
      "cell_type": "code",
      "metadata": {
        "cellView": "code",
        "id": "90443487"
      },
      "source": [
        "from pathlib import Path\n",
        "\n",
        "CHECKPOINT_DIR = BASE_DIR / \"checkpoint\"\n",
        "CHECKPOINT_DIR.mkdir(parents=True, exist_ok=True)\n",
        "\n",
        "from roughml.content.loss import NGramGraphContentLoss\n",
        "from roughml.data.transforms import Flatten, To"
      ],
      "id": "90443487",
      "execution_count": null,
      "outputs": []
    },
    {
      "cell_type": "code",
      "metadata": {
        "cellView": "code",
        "id": "63114157"
      },
      "source": [
        "from roughml.training.flow import TrainingFlow\n",
        "from roughml.training.manager import per_epoch\n",
        "\n",
        "training_flow = TrainingFlow(\n",
        "    training_manager={\n",
        "        \"benchmark\": True,\n",
        "        \"checkpoint_dir\": CHECKPOINT_DIR,\n",
        "        \"checkpoint_multiple\": False,\n",
        "        \"train_epoch\": per_epoch,\n",
        "        \"log_every_n\": 10,\n",
        "        \"criterion\": criterion,\n",
        "        \"n_epochs\": 10,\n",
        "        \"train_ratio\": 0.8,\n",
        "        \"optimizer\": {\"lr\": 0.0005, \"weight_decay\": 0},\n",
        "        \"dataloader\": {\n",
        "            \"batch_size\": 256,\n",
        "            \"shuffle\": True,\n",
        "            \"num_workers\": 0,\n",
        "        },\n",
        "    },\n",
        "    content_loss_type=NGramGraphContentLoss,\n",
        "    dataset={\n",
        "        \"limit\": 10,\n",
        "        \"path\": GDRIVE_DIR / \"MyDrive\" / \"Thesis\" / \"Datasets\" / \"surfaces.zip\",\n",
        "        \"transforms\": [Flatten(), To(device)],\n",
        "    },\n",
        ")"
      ],
      "id": "63114157",
      "execution_count": null,
      "outputs": []
    },
    {
      "cell_type": "code",
      "metadata": {
        "id": "836ed418"
      },
      "source": [
        "training_flow(generator, discriminator)"
      ],
      "id": "836ed418",
      "execution_count": null,
      "outputs": []
    },
    {
      "cell_type": "markdown",
      "metadata": {
        "id": "fe589c1a"
      },
      "source": [
        "# 😎 A CNN based approach"
      ],
      "id": "fe589c1a"
    },
    {
      "cell_type": "markdown",
      "metadata": {
        "id": "b16a4946"
      },
      "source": [
        "## Instantiating the **Generator** and the **Discriminator** Networks"
      ],
      "id": "b16a4946"
    },
    {
      "cell_type": "code",
      "metadata": {
        "cellView": "code",
        "id": "e301a7a0"
      },
      "source": [
        "from src.roughml.models import CNNGenerator\n",
        "\n",
        "generator = CNNGenerator.from_device(device)"
      ],
      "id": "e301a7a0",
      "execution_count": null,
      "outputs": []
    },
    {
      "cell_type": "code",
      "metadata": {
        "cellView": "code",
        "id": "36ffe487"
      },
      "source": [
        "generator"
      ],
      "id": "36ffe487",
      "execution_count": null,
      "outputs": []
    },
    {
      "cell_type": "code",
      "metadata": {
        "cellView": "code",
        "id": "5a8a9aad"
      },
      "source": [
        "from src.roughml.models import CNNDiscriminator\n",
        "\n",
        "discriminator = CNNDiscriminator.from_device(device)"
      ],
      "id": "5a8a9aad",
      "execution_count": null,
      "outputs": []
    },
    {
      "cell_type": "code",
      "metadata": {
        "cellView": "code",
        "id": "1d0a4a40"
      },
      "source": [
        "discriminator"
      ],
      "id": "1d0a4a40",
      "execution_count": null,
      "outputs": []
    },
    {
      "cell_type": "markdown",
      "metadata": {
        "id": "7bbbcc22"
      },
      "source": [
        "## Training"
      ],
      "id": "7bbbcc22"
    },
    {
      "cell_type": "code",
      "metadata": {
        "cellView": "code",
        "id": "45778b4c"
      },
      "source": [
        "from torch.nn import BCELoss\n",
        "\n",
        "criterion = BCELoss().to(device)\n",
        "\n",
        "from roughml.content.loss import ArrayGraph2DContentLoss\n",
        "from roughml.data.transforms import To, View"
      ],
      "id": "45778b4c",
      "execution_count": null,
      "outputs": []
    },
    {
      "cell_type": "code",
      "metadata": {
        "cellView": "code",
        "id": "82fb12f6"
      },
      "source": [
        "from roughml.training.flow import TrainingFlow\n",
        "from roughml.training.manager import per_epoch\n",
        "\n",
        "training_flow = TrainingFlow(\n",
        "    training_manager={\n",
        "        \"benchmark\": True,\n",
        "        \"checkpoint_dir\": CHECKPOINT_DIR,\n",
        "        \"checkpoint_multiple\": False,\n",
        "        \"train_epoch\": per_epoch,\n",
        "        \"log_every_n\": 10,\n",
        "        \"criterion\": criterion,\n",
        "        \"n_epochs\": 10,\n",
        "        \"train_ratio\": 0.8,\n",
        "        \"optimizer\": {\"lr\": 0.0002, \"betas\": (0.5, 0.999)},\n",
        "        \"dataloader\": {\n",
        "            \"batch_size\": 256,\n",
        "            \"shuffle\": True,\n",
        "            \"num_workers\": 0,\n",
        "        },\n",
        "    },\n",
        "    content_loss_type=ArrayGraph2DContentLoss,\n",
        "    dataset={\n",
        "        \"limit\": 10,\n",
        "        \"path\": GDRIVE_DIR / \"MyDrive\" / \"Thesis\" / \"Datasets\" / \"surfaces.zip\",\n",
        "        \"transforms\": [To(device), View(1, 128, 128)],\n",
        "    },\n",
        ")"
      ],
      "id": "82fb12f6",
      "execution_count": null,
      "outputs": []
    },
    {
      "cell_type": "code",
      "metadata": {
        "id": "3c4cdce1"
      },
      "source": [
        "training_flow(generator, discriminator)"
      ],
      "id": "3c4cdce1",
      "execution_count": null,
      "outputs": []
    }
  ]
}
