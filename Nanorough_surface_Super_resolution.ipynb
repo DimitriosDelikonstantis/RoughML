{
  "nbformat": 4,
  "nbformat_minor": 5,
  "metadata": {
    "jupytext": {
      "encoding": "# -*- coding: utf-8 -*-",
      "formats": "ipynb,py:light",
      "main_language": "python"
    },
    "kernelspec": {
      "display_name": "Python 3",
      "name": "python3"
    },
    "colab": {
      "name": "Nanorough_surface_Super_resolution.ipynb",
      "provenance": [],
      "collapsed_sections": [],
      "toc_visible": true
    },
    "accelerator": "GPU"
  },
  "cells": [
    {
      "cell_type": "markdown",
      "metadata": {
        "id": "cce26209"
      },
      "source": [
        "# ✔️ Prerequisites"
      ],
      "id": "cce26209"
    },
    {
      "cell_type": "markdown",
      "metadata": {
        "id": "affab565"
      },
      "source": [
        "First of all we need to take care of a few **prerequisites**, most notably:\n",
        "\n",
        "- Install the various pip modules that we will be using.\n",
        "- Install some linux specific dependencies of our [content loss](#content-loss).\n",
        "- Initialize the Random Number Generator(s), so that our experiments can be replicated.\n",
        "- Determine:\n",
        "  - The current working directory, as it's going to be used to reference various files such as the dataset, our model checkpoints e.t.c\n",
        "  - The available hardware backend. GPU utilization is preferable, as it results in higher complition time.\n",
        "- `(Optionally)` Mount Google Drive, where we can load our dataset from."
      ],
      "id": "affab565"
    },
    {
      "cell_type": "markdown",
      "metadata": {
        "id": "19e0a6d0"
      },
      "source": [
        "## Determining the Current Working Directory"
      ],
      "id": "19e0a6d0"
    },
    {
      "cell_type": "code",
      "metadata": {
        "cellView": "code",
        "id": "945a9ccd"
      },
      "source": [
        "from pathlib import Path\n",
        "\n",
        "BASE_DIR = Path.cwd()"
      ],
      "id": "945a9ccd",
      "execution_count": 1,
      "outputs": []
    },
    {
      "cell_type": "markdown",
      "metadata": {
        "id": "94c4d99f"
      },
      "source": [
        "## Mounting Google Drive"
      ],
      "id": "94c4d99f"
    },
    {
      "cell_type": "code",
      "metadata": {
        "cellView": "code",
        "id": "12dcaea0"
      },
      "source": [
        "GDRIVE_DIR = BASE_DIR / \"drive\""
      ],
      "id": "12dcaea0",
      "execution_count": 2,
      "outputs": []
    },
    {
      "cell_type": "code",
      "metadata": {
        "cellView": "code",
        "id": "e24f0051"
      },
      "source": [
        "try:\n",
        "    from google.colab import drive\n",
        "\n",
        "    drive.mount(f\"{GDRIVE_DIR}\")\n",
        "except ImportError:\n",
        "    pass"
      ],
      "id": "e24f0051",
      "execution_count": null,
      "outputs": []
    },
    {
      "cell_type": "markdown",
      "metadata": {
        "id": "16a902e2"
      },
      "source": [
        "## Installing [graphviz](https://graphviz.org/) & [libgraphviz-dev](https://packages.debian.org/jessie/libgraphviz-dev)"
      ],
      "id": "16a902e2"
    },
    {
      "cell_type": "markdown",
      "metadata": {
        "id": "8c0cdd85"
      },
      "source": [
        "The aforementioned packages are required by [PyINSECT](https://github.com/billsioros/PyINSECT/tree/implementing-HPGs) and more specifically its graph plotting methods."
      ],
      "id": "8c0cdd85"
    },
    {
      "cell_type": "code",
      "metadata": {
        "cellView": "code",
        "id": "919734ca"
      },
      "source": [
        "!sudo apt-get install graphviz libgraphviz-dev"
      ],
      "id": "919734ca",
      "execution_count": null,
      "outputs": []
    },
    {
      "cell_type": "markdown",
      "metadata": {
        "id": "7f5668f4"
      },
      "source": [
        "## Installing the required `pip` modules"
      ],
      "id": "7f5668f4"
    },
    {
      "cell_type": "markdown",
      "metadata": {
        "id": "aebad6f1"
      },
      "source": [
        "- [torch](https://pytorch.org/) is our machine learning framework of choice.\n",
        "- [numpy](https://numpy.org/), [sympy](https://www.sympy.org/en/index.html) and [scipy](https://www.scipy.org/) are used to in the context of nanorough surface generation.\n",
        "- [plotly](https://plotly.com/) (which requires [pandas](https://pandas.pydata.org/)) as well as [matplotlib](https://matplotlib.org/) are used in order to plot various graphs."
      ],
      "id": "aebad6f1"
    },
    {
      "cell_type": "code",
      "metadata": {
        "cellView": "code",
        "id": "1057687b"
      },
      "source": [
        "!pip install /content/drive/MyDrive/Thesis/roughml.whl"
      ],
      "id": "1057687b",
      "execution_count": null,
      "outputs": []
    },
    {
      "cell_type": "markdown",
      "metadata": {
        "id": "0192c059"
      },
      "source": [
        "## Initializing (a.k.a `Seeding`) the Random Number Generator(s)"
      ],
      "id": "0192c059"
    },
    {
      "cell_type": "markdown",
      "metadata": {
        "id": "fa44f756"
      },
      "source": [
        "We are required to seed various random number generation engines, so that our experiments can be replicated on a later date."
      ],
      "id": "fa44f756"
    },
    {
      "cell_type": "code",
      "metadata": {
        "cellView": "code",
        "id": "5daee8da"
      },
      "source": [
        "SEED = 1234\n",
        "\n",
        "import os\n",
        "import random\n",
        "\n",
        "import numpy as np"
      ],
      "id": "5daee8da",
      "execution_count": null,
      "outputs": []
    },
    {
      "cell_type": "code",
      "metadata": {
        "cellView": "code",
        "id": "4d6c30c9"
      },
      "source": [
        "import torch\n",
        "\n",
        "if SEED is not None:\n",
        "    np.random.seed(SEED)\n",
        "    random.seed(SEED)\n",
        "    torch.manual_seed(SEED)\n",
        "    torch.cuda.manual_seed(SEED)\n",
        "    torch.backends.cudnn.deterministic = True\n",
        "    os.environ[\"PYTHONHASHSEED\"] = str(SEED)"
      ],
      "id": "4d6c30c9",
      "execution_count": null,
      "outputs": []
    },
    {
      "cell_type": "markdown",
      "metadata": {
        "id": "6fce8a2a"
      },
      "source": [
        "## Determining available backend"
      ],
      "id": "6fce8a2a"
    },
    {
      "cell_type": "markdown",
      "metadata": {
        "id": "5ca328f8"
      },
      "source": [
        "By default, we are going to be utilizing the available CPU backend, if no GPU is available."
      ],
      "id": "5ca328f8"
    },
    {
      "cell_type": "code",
      "metadata": {
        "cellView": "code",
        "id": "ebabd4a5"
      },
      "source": [
        "device = \"cpu\"\n",
        "if torch.cuda.is_available():\n",
        "    device = \"cuda:0\""
      ],
      "id": "ebabd4a5",
      "execution_count": null,
      "outputs": []
    },
    {
      "cell_type": "code",
      "metadata": {
        "cellView": "code",
        "id": "520ba5c1"
      },
      "source": [
        "device = torch.device(device)"
      ],
      "id": "520ba5c1",
      "execution_count": null,
      "outputs": []
    },
    {
      "cell_type": "markdown",
      "metadata": {
        "id": "64c09dfe"
      },
      "source": [
        "## Configuring our Loggers"
      ],
      "id": "64c09dfe"
    },
    {
      "cell_type": "code",
      "metadata": {
        "cellView": "code",
        "id": "5eea1ad8"
      },
      "source": [
        "import logging\n",
        "\n",
        "logging.basicConfig(\n",
        "    format=\"[%(asctime)s] %(levelname)s:%(name)s: %(message)s\", level=logging.CRITICAL\n",
        ")"
      ],
      "id": "5eea1ad8",
      "execution_count": null,
      "outputs": []
    },
    {
      "cell_type": "code",
      "metadata": {
        "id": "b45114ef"
      },
      "source": [
        "logger = logging.getLogger()"
      ],
      "id": "b45114ef",
      "execution_count": null,
      "outputs": []
    },
    {
      "cell_type": "markdown",
      "metadata": {
        "id": "60d78d1e"
      },
      "source": [
        "# 🙃 A naive-approach"
      ],
      "id": "60d78d1e"
    },
    {
      "cell_type": "markdown",
      "metadata": {
        "id": "ec374650"
      },
      "source": [
        "## Instantiating the **Generator** and the **Discriminator** Networks"
      ],
      "id": "ec374650"
    },
    {
      "cell_type": "code",
      "metadata": {
        "cellView": "code",
        "id": "d6594cb1"
      },
      "source": [
        "from roughml.models import PerceptronGenerator\n",
        "\n",
        "generator = PerceptronGenerator.from_device(device)"
      ],
      "id": "d6594cb1",
      "execution_count": null,
      "outputs": []
    },
    {
      "cell_type": "code",
      "metadata": {
        "cellView": "code",
        "id": "4bff3a44"
      },
      "source": [
        "generator"
      ],
      "id": "4bff3a44",
      "execution_count": null,
      "outputs": []
    },
    {
      "cell_type": "code",
      "metadata": {
        "cellView": "code",
        "id": "cac059ee"
      },
      "source": [
        "from roughml.models import PerceptronDiscriminator\n",
        "\n",
        "discriminator = PerceptronDiscriminator.from_generator(generator, device=device)"
      ],
      "id": "cac059ee",
      "execution_count": null,
      "outputs": []
    },
    {
      "cell_type": "code",
      "metadata": {
        "cellView": "code",
        "id": "64022987"
      },
      "source": [
        "discriminator"
      ],
      "id": "64022987",
      "execution_count": null,
      "outputs": []
    },
    {
      "cell_type": "markdown",
      "metadata": {
        "id": "eb813599"
      },
      "source": [
        "## Training"
      ],
      "id": "eb813599"
    },
    {
      "cell_type": "code",
      "metadata": {
        "cellView": "code",
        "id": "8a131c21"
      },
      "source": [
        "from torch.nn import BCELoss\n",
        "\n",
        "criterion = BCELoss().to(device)"
      ],
      "id": "8a131c21",
      "execution_count": null,
      "outputs": []
    },
    {
      "cell_type": "code",
      "metadata": {
        "cellView": "code",
        "id": "90443487"
      },
      "source": [
        "from pathlib import Path\n",
        "\n",
        "CHECKPOINT_DIR = BASE_DIR / \"checkpoint\"\n",
        "CHECKPOINT_DIR.mkdir(parents=True, exist_ok=True)"
      ],
      "id": "90443487",
      "execution_count": null,
      "outputs": []
    },
    {
      "cell_type": "code",
      "metadata": {
        "cellView": "code",
        "id": "63114157"
      },
      "source": [
        "from roughml.training.flow import TrainingFlow\n",
        "from roughml.training.manager import per_epoch\n",
        "from roughml.content.loss import NGramGraphContentLoss\n",
        "from roughml.data.transforms import Flatten, To\n",
        "\n",
        "training_flow = TrainingFlow(\n",
        "    training_manager={\n",
        "        \"benchmark\": True,\n",
        "        \"checkpoint_dir\": CHECKPOINT_DIR,\n",
        "        \"checkpoint_multiple\": False,\n",
        "        \"train_epoch\": per_epoch,\n",
        "        \"log_every_n\": 10,\n",
        "        \"criterion\": criterion,\n",
        "        \"n_epochs\": 10,\n",
        "        \"train_ratio\": 0.8,\n",
        "        \"optimizer\": {\"lr\": 0.0005, \"weight_decay\": 0},\n",
        "        \"dataloader\": {\n",
        "            \"batch_size\": 256,\n",
        "            \"shuffle\": True,\n",
        "            \"num_workers\": 0,\n",
        "        },\n",
        "    },\n",
        "    content_loss_type=NGramGraphContentLoss,\n",
        "    dataset={\n",
        "        \"limit\": 10,\n",
        "        \"path\": GDRIVE_DIR / \"MyDrive\" / \"Thesis\" / \"Datasets\" / \"surfaces.zip\",\n",
        "        \"transforms\": [Flatten(), To(device)],\n",
        "    },\n",
        ")"
      ],
      "id": "63114157",
      "execution_count": null,
      "outputs": []
    },
    {
      "cell_type": "code",
      "metadata": {
        "id": "836ed418"
      },
      "source": [
        "training_flow(generator, discriminator)"
      ],
      "id": "836ed418",
      "execution_count": null,
      "outputs": []
    },
    {
      "cell_type": "markdown",
      "metadata": {
        "id": "fe589c1a"
      },
      "source": [
        "# 😎 A CNN based approach"
      ],
      "id": "fe589c1a"
    },
    {
      "cell_type": "markdown",
      "metadata": {
        "id": "b16a4946"
      },
      "source": [
        "## Instantiating the **Generator** and the **Discriminator** Networks"
      ],
      "id": "b16a4946"
    },
    {
      "cell_type": "code",
      "metadata": {
        "cellView": "code",
        "id": "e301a7a0"
      },
      "source": [
        "from src.roughml.models import CNNGenerator\n",
        "\n",
        "generator = CNNGenerator.from_device(device)"
      ],
      "id": "e301a7a0",
      "execution_count": null,
      "outputs": []
    },
    {
      "cell_type": "code",
      "metadata": {
        "cellView": "code",
        "id": "36ffe487"
      },
      "source": [
        "generator"
      ],
      "id": "36ffe487",
      "execution_count": null,
      "outputs": []
    },
    {
      "cell_type": "code",
      "metadata": {
        "cellView": "code",
        "id": "5a8a9aad"
      },
      "source": [
        "from src.roughml.models import CNNDiscriminator\n",
        "\n",
        "discriminator = CNNDiscriminator.from_device(device)"
      ],
      "id": "5a8a9aad",
      "execution_count": null,
      "outputs": []
    },
    {
      "cell_type": "code",
      "metadata": {
        "cellView": "code",
        "id": "1d0a4a40"
      },
      "source": [
        "discriminator"
      ],
      "id": "1d0a4a40",
      "execution_count": null,
      "outputs": []
    },
    {
      "cell_type": "markdown",
      "metadata": {
        "id": "7bbbcc22"
      },
      "source": [
        "## Training"
      ],
      "id": "7bbbcc22"
    },
    {
      "cell_type": "code",
      "metadata": {
        "cellView": "code",
        "id": "45778b4c"
      },
      "source": [
        "from torch.nn import BCELoss\n",
        "\n",
        "criterion = BCELoss().to(device)"
      ],
      "id": "45778b4c",
      "execution_count": null,
      "outputs": []
    },
    {
      "cell_type": "code",
      "metadata": {
        "id": "QOVvzTEv0o6V"
      },
      "source": [
        "from pathlib import Path\n",
        "\n",
        "CHECKPOINT_DIR = BASE_DIR / \"checkpoint\"\n",
        "CHECKPOINT_DIR.mkdir(parents=True, exist_ok=True)"
      ],
      "id": "QOVvzTEv0o6V",
      "execution_count": null,
      "outputs": []
    },
    {
      "cell_type": "code",
      "metadata": {
        "cellView": "code",
        "id": "82fb12f6"
      },
      "source": [
        "from roughml.training.flow import TrainingFlow\n",
        "from roughml.training.manager import per_epoch\n",
        "from roughml.content.loss import ArrayGraph2DContentLoss\n",
        "from roughml.data.transforms import To, View\n",
        "\n",
        "training_flow = TrainingFlow(\n",
        "    training_manager={\n",
        "        \"benchmark\": True,\n",
        "        \"checkpoint_dir\": CHECKPOINT_DIR,\n",
        "        \"checkpoint_multiple\": False,\n",
        "        \"train_epoch\": per_epoch,\n",
        "        \"log_every_n\": 10,\n",
        "        \"criterion\": criterion,\n",
        "        \"n_epochs\": 10,\n",
        "        \"train_ratio\": 0.8,\n",
        "        \"optimizer\": {\"lr\": 0.0002, \"betas\": (0.5, 0.999)},\n",
        "        \"dataloader\": {\n",
        "            \"batch_size\": 256,\n",
        "            \"shuffle\": True,\n",
        "            \"num_workers\": 0,\n",
        "        },\n",
        "    },\n",
        "    content_loss_type=ArrayGraph2DContentLoss,\n",
        "    dataset={\n",
        "        \"limit\": 10,\n",
        "        \"path\": GDRIVE_DIR / \"MyDrive\" / \"Thesis\" / \"Datasets\" / \"surfaces.zip\",\n",
        "        \"transforms\": [To(device), View(1, 128, 128)],\n",
        "    },\n",
        ")"
      ],
      "id": "82fb12f6",
      "execution_count": null,
      "outputs": []
    },
    {
      "cell_type": "code",
      "metadata": {
        "id": "3c4cdce1"
      },
      "source": [
        "training_flow(generator, discriminator)"
      ],
      "id": "3c4cdce1",
      "execution_count": null,
      "outputs": []
    }
  ]
}