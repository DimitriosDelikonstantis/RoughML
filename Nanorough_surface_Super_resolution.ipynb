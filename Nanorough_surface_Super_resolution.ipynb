{
 "cells": [
  {
   "cell_type": "markdown",
   "id": "4d74438e",
   "metadata": {
    "id": "cce26209"
   },
   "source": [
    "# ✔️ Prerequisites"
   ]
  },
  {
   "cell_type": "markdown",
   "id": "49e74609",
   "metadata": {
    "id": "affab565"
   },
   "source": [
    "First of all we need to take care of a few **prerequisites**, most notably:\n",
    "\n",
    "- Install the various pip modules that we will be using.\n",
    "- Install some linux specific dependencies of our [content loss](#content-loss).\n",
    "- Initialize the Random Number Generator(s), so that our experiments can be replicated.\n",
    "- Determine:\n",
    "  - The current working directory, as it's going to be used to reference various files such as the dataset, our model checkpoints e.t.c\n",
    "  - The available hardware backend. GPU utilization is preferable, as it results in higher complition time.\n",
    "- `(Optionally)` Mount Google Drive, where we can load our dataset from."
   ]
  },
  {
   "cell_type": "markdown",
   "id": "5fd77701",
   "metadata": {
    "id": "19e0a6d0"
   },
   "source": [
    "## Determining the Current Working Directory"
   ]
  },
  {
   "cell_type": "code",
   "execution_count": null,
   "id": "1baa2d75",
   "metadata": {
    "cellView": "code",
    "id": "945a9ccd"
   },
   "outputs": [],
   "source": [
    "from pathlib import Path\n",
    "\n",
    "BASE_DIR = Path.cwd()"
   ]
  },
  {
   "cell_type": "markdown",
   "id": "924ccc7e",
   "metadata": {
    "id": "94c4d99f"
   },
   "source": [
    "## Mounting Google Drive"
   ]
  },
  {
   "cell_type": "code",
   "execution_count": null,
   "id": "45f8aeb5",
   "metadata": {
    "cellView": "code",
    "id": "12dcaea0"
   },
   "outputs": [],
   "source": [
    "GDRIVE_DIR = BASE_DIR / \"drive\""
   ]
  },
  {
   "cell_type": "code",
   "execution_count": null,
   "id": "3c198c5b",
   "metadata": {
    "cellView": "code",
    "id": "e24f0051"
   },
   "outputs": [],
   "source": [
    "try:\n",
    "    from google.colab import drive\n",
    "\n",
    "    drive.mount(f\"{GDRIVE_DIR}\")\n",
    "except ImportError:\n",
    "    pass"
   ]
  },
  {
   "cell_type": "markdown",
   "id": "ebddf592",
   "metadata": {
    "id": "16a902e2"
   },
   "source": [
    "## Installing [graphviz](https://graphviz.org/) & [libgraphviz-dev](https://packages.debian.org/jessie/libgraphviz-dev)"
   ]
  },
  {
   "cell_type": "markdown",
   "id": "16366eb7",
   "metadata": {
    "id": "8c0cdd85"
   },
   "source": [
    "The aforementioned packages are required by [PyINSECT](https://github.com/billsioros/PyINSECT/tree/implementing-HPGs) and more specifically its graph plotting methods."
   ]
  },
  {
   "cell_type": "code",
   "execution_count": null,
   "id": "423e8777",
   "metadata": {
    "cellView": "code",
    "id": "919734ca"
   },
   "outputs": [],
   "source": [
    "!sudo apt-get install graphviz libgraphviz-dev"
   ]
  },
  {
   "cell_type": "markdown",
   "id": "2b3195a6",
   "metadata": {
    "id": "7f5668f4"
   },
   "source": [
    "## Installing the required `pip` modules"
   ]
  },
  {
   "cell_type": "markdown",
   "id": "918655ac",
   "metadata": {
    "id": "aebad6f1"
   },
   "source": [
    "- [torch](https://pytorch.org/) is our machine learning framework of choice.\n",
    "- [numpy](https://numpy.org/), [sympy](https://www.sympy.org/en/index.html) and [scipy](https://www.scipy.org/) are used to in the context of nanorough surface generation.\n",
    "- [plotly](https://plotly.com/) (which requires [pandas](https://pandas.pydata.org/)) as well as [matplotlib](https://matplotlib.org/) are used in order to plot various graphs."
   ]
  },
  {
   "cell_type": "code",
   "execution_count": null,
   "id": "5d8ac621",
   "metadata": {
    "cellView": "code",
    "id": "1057687b"
   },
   "outputs": [],
   "source": [
    "!pip install /content/drive/MyDrive/Thesis/roughml-1.0.0-py3-none-any.whl"
   ]
  },
  {
   "cell_type": "markdown",
   "id": "997bb99b",
   "metadata": {
    "id": "0192c059"
   },
   "source": [
    "## Initializing (a.k.a `Seeding`) the Random Number Generator(s)"
   ]
  },
  {
   "cell_type": "markdown",
   "id": "507189e2",
   "metadata": {
    "id": "fa44f756"
   },
   "source": [
    "We are required to seed various random number generation engines, so that our experiments can be replicated on a later date."
   ]
  },
  {
   "cell_type": "code",
   "execution_count": null,
   "id": "915d3b6e",
   "metadata": {
    "cellView": "code",
    "id": "5daee8da"
   },
   "outputs": [],
   "source": [
    "SEED = 1234\n",
    "\n",
    "import os\n",
    "import random\n",
    "\n",
    "import numpy as np"
   ]
  },
  {
   "cell_type": "code",
   "execution_count": null,
   "id": "9916a5e9",
   "metadata": {
    "cellView": "code",
    "id": "4d6c30c9"
   },
   "outputs": [],
   "source": [
    "import torch\n",
    "\n",
    "if SEED is not None:\n",
    "    np.random.seed(SEED)\n",
    "    random.seed(SEED)\n",
    "    torch.manual_seed(SEED)\n",
    "    torch.cuda.manual_seed(SEED)\n",
    "    torch.backends.cudnn.deterministic = True\n",
    "    os.environ[\"PYTHONHASHSEED\"] = str(SEED)"
   ]
  },
  {
   "cell_type": "markdown",
   "id": "421dbcc3",
   "metadata": {
    "id": "6fce8a2a"
   },
   "source": [
    "## Determining available backend"
   ]
  },
  {
   "cell_type": "markdown",
   "id": "3f38d8be",
   "metadata": {
    "id": "5ca328f8"
   },
   "source": [
    "By default, we are going to be utilizing the available CPU backend, if no GPU is available."
   ]
  },
  {
   "cell_type": "code",
   "execution_count": null,
   "id": "297e7885",
   "metadata": {
    "cellView": "code",
    "id": "ebabd4a5"
   },
   "outputs": [],
   "source": [
    "device = \"cpu\"\n",
    "if torch.cuda.is_available():\n",
    "    device = \"cuda:0\""
   ]
  },
  {
   "cell_type": "code",
   "execution_count": null,
   "id": "4c7e26a8",
   "metadata": {
    "cellView": "code",
    "id": "520ba5c1"
   },
   "outputs": [],
   "source": [
    "device = torch.device(device)"
   ]
  },
  {
   "cell_type": "markdown",
   "id": "c83a16c6",
   "metadata": {
    "id": "64c09dfe"
   },
   "source": [
    "## Configuring our Loggers"
   ]
  },
  {
   "cell_type": "code",
   "execution_count": null,
   "id": "685b1333",
   "metadata": {
    "cellView": "code",
    "id": "5eea1ad8"
   },
   "outputs": [],
   "source": [
    "import logging\n",
    "\n",
    "logging.basicConfig(\n",
    "    format=\"[%(asctime)s] %(levelname)s:%(name)s: %(message)s\", level=logging.CRITICAL\n",
    ")"
   ]
  },
  {
   "cell_type": "code",
   "execution_count": null,
   "id": "5ff5a051",
   "metadata": {
    "id": "b45114ef"
   },
   "outputs": [],
   "source": [
    "logger = logging.getLogger()"
   ]
  },
  {
   "cell_type": "markdown",
   "id": "eb1e9cb7",
   "metadata": {
    "id": "60d78d1e"
   },
   "source": [
    "# 🙃 A naive-approach"
   ]
  },
  {
   "cell_type": "markdown",
   "id": "79a20a58",
   "metadata": {
    "id": "ec374650"
   },
   "source": [
    "## Instantiating the **Generator** and the **Discriminator** Networks"
   ]
  },
  {
   "cell_type": "code",
   "execution_count": null,
   "id": "00d09fac",
   "metadata": {
    "cellView": "code",
    "id": "d6594cb1"
   },
   "outputs": [],
   "source": [
    "from roughml.models import PerceptronGenerator\n",
    "\n",
    "generator = PerceptronGenerator.from_device(device)"
   ]
  },
  {
   "cell_type": "code",
   "execution_count": null,
   "id": "d2d5a0cf",
   "metadata": {
    "cellView": "code",
    "id": "4bff3a44"
   },
   "outputs": [],
   "source": [
    "generator"
   ]
  },
  {
   "cell_type": "code",
   "execution_count": null,
   "id": "1985f216",
   "metadata": {
    "cellView": "code",
    "id": "cac059ee"
   },
   "outputs": [],
   "source": [
    "from roughml.models import PerceptronDiscriminator\n",
    "\n",
    "discriminator = PerceptronDiscriminator.from_generator(generator, device=device)"
   ]
  },
  {
   "cell_type": "code",
   "execution_count": null,
   "id": "13e1c922",
   "metadata": {
    "cellView": "code",
    "id": "64022987"
   },
   "outputs": [],
   "source": [
    "discriminator"
   ]
  },
  {
   "cell_type": "markdown",
   "id": "e8066618",
   "metadata": {
    "id": "eb813599"
   },
   "source": [
    "## Training"
   ]
  },
  {
   "cell_type": "code",
   "execution_count": null,
   "id": "8a25c36a",
   "metadata": {
    "cellView": "code",
    "id": "8a131c21"
   },
   "outputs": [],
   "source": [
    "from torch.nn import BCELoss\n",
    "\n",
    "criterion = BCELoss().to(device)"
   ]
  },
  {
   "cell_type": "code",
   "execution_count": null,
   "id": "c0b62641",
   "metadata": {
    "cellView": "code",
    "id": "90443487"
   },
   "outputs": [],
   "source": [
    "from pathlib import Path\n",
    "\n",
    "CHECKPOINT_DIR = BASE_DIR / \"checkpoint\"\n",
    "CHECKPOINT_DIR.mkdir(parents=True, exist_ok=True)"
   ]
  },
  {
   "cell_type": "code",
   "execution_count": null,
   "id": "d445620b",
   "metadata": {
    "cellView": "code",
    "id": "63114157"
   },
   "outputs": [],
   "source": [
    "from roughml.content.loss import NGramGraphContentLoss\n",
    "from roughml.data.transforms import Flatten, To\n",
    "from roughml.training.flow import TrainingFlow\n",
    "from roughml.training.manager import per_epoch\n",
    "\n",
    "training_flow = TrainingFlow(\n",
    "    training_manager={\n",
    "        \"benchmark\": True,\n",
    "        \"checkpoint_dir\": CHECKPOINT_DIR,\n",
    "        \"checkpoint_multiple\": False,\n",
    "        \"train_epoch\": per_epoch,\n",
    "        \"log_every_n\": 10,\n",
    "        \"criterion\": criterion,\n",
    "        \"n_epochs\": 10,\n",
    "        \"train_ratio\": 0.8,\n",
    "        \"optimizer\": {\"lr\": 0.0005, \"weight_decay\": 0},\n",
    "        \"dataloader\": {\n",
    "            \"batch_size\": 256,\n",
    "            \"shuffle\": True,\n",
    "            \"num_workers\": 0,\n",
    "        },\n",
    "    },\n",
    "    content_loss_type=NGramGraphContentLoss,\n",
    "    dataset={\n",
    "        \"limit\": 10,\n",
    "        \"path\": GDRIVE_DIR / \"MyDrive\" / \"Thesis\" / \"Datasets\" / \"surfaces.zip\",\n",
    "        \"transforms\": [Flatten(), To(device)],\n",
    "    },\n",
    ")"
   ]
  },
  {
   "cell_type": "code",
   "execution_count": null,
   "id": "ea8bdb13",
   "metadata": {
    "id": "836ed418"
   },
   "outputs": [],
   "source": [
    "training_flow(generator, discriminator)"
   ]
  },
  {
   "cell_type": "markdown",
   "id": "05a5b9ce",
   "metadata": {
    "id": "fe589c1a"
   },
   "source": [
    "# 😎 A CNN based approach"
   ]
  },
  {
   "cell_type": "markdown",
   "id": "c287fc76",
   "metadata": {
    "id": "b16a4946"
   },
   "source": [
    "## Instantiating the **Generator** and the **Discriminator** Networks"
   ]
  },
  {
   "cell_type": "code",
   "execution_count": null,
   "id": "9bd9ae9f",
   "metadata": {
    "cellView": "code",
    "id": "e301a7a0"
   },
   "outputs": [],
   "source": [
    "from src.roughml.models import CNNGenerator\n",
    "\n",
    "generator = CNNGenerator.from_device(device)"
   ]
  },
  {
   "cell_type": "code",
   "execution_count": null,
   "id": "5c4b442c",
   "metadata": {
    "cellView": "code",
    "id": "36ffe487"
   },
   "outputs": [],
   "source": [
    "generator"
   ]
  },
  {
   "cell_type": "code",
   "execution_count": null,
   "id": "b1761ec1",
   "metadata": {
    "cellView": "code",
    "id": "5a8a9aad"
   },
   "outputs": [],
   "source": [
    "from src.roughml.models import CNNDiscriminator\n",
    "\n",
    "discriminator = CNNDiscriminator.from_device(device)"
   ]
  },
  {
   "cell_type": "code",
   "execution_count": null,
   "id": "0d4719bf",
   "metadata": {
    "cellView": "code",
    "id": "1d0a4a40"
   },
   "outputs": [],
   "source": [
    "discriminator"
   ]
  },
  {
   "cell_type": "markdown",
   "id": "deb4d335",
   "metadata": {
    "id": "7bbbcc22"
   },
   "source": [
    "## Training"
   ]
  },
  {
   "cell_type": "code",
   "execution_count": null,
   "id": "d0e8aaca",
   "metadata": {
    "cellView": "code",
    "id": "45778b4c"
   },
   "outputs": [],
   "source": [
    "from torch.nn import BCELoss\n",
    "\n",
    "criterion = BCELoss().to(device)"
   ]
  },
  {
   "cell_type": "code",
   "execution_count": null,
   "id": "c2602caa",
   "metadata": {
    "id": "QOVvzTEv0o6V"
   },
   "outputs": [],
   "source": [
    "from pathlib import Path\n",
    "\n",
    "CHECKPOINT_DIR = BASE_DIR / \"checkpoint\"\n",
    "CHECKPOINT_DIR.mkdir(parents=True, exist_ok=True)"
   ]
  },
  {
   "cell_type": "code",
   "execution_count": null,
   "id": "b9b13531",
   "metadata": {
    "cellView": "code",
    "id": "82fb12f6"
   },
   "outputs": [],
   "source": [
    "from roughml.content.loss import ArrayGraph2DContentLoss\n",
    "from roughml.data.transforms import To, View\n",
    "from roughml.training.flow import TrainingFlow\n",
    "from roughml.training.manager import per_epoch\n",
    "\n",
    "training_flow = TrainingFlow(\n",
    "    training_manager={\n",
    "        \"benchmark\": True,\n",
    "        \"checkpoint_dir\": CHECKPOINT_DIR,\n",
    "        \"checkpoint_multiple\": False,\n",
    "        \"train_epoch\": per_epoch,\n",
    "        \"log_every_n\": 10,\n",
    "        \"criterion\": criterion,\n",
    "        \"n_epochs\": 10,\n",
    "        \"train_ratio\": 0.8,\n",
    "        \"optimizer\": {\"lr\": 0.0002, \"betas\": (0.5, 0.999)},\n",
    "        \"dataloader\": {\n",
    "            \"batch_size\": 256,\n",
    "            \"shuffle\": True,\n",
    "            \"num_workers\": 0,\n",
    "        },\n",
    "    },\n",
    "    content_loss_type=ArrayGraph2DContentLoss,\n",
    "    dataset={\n",
    "        \"limit\": 10,\n",
    "        \"path\": GDRIVE_DIR / \"MyDrive\" / \"Thesis\" / \"Datasets\" / \"surfaces.zip\",\n",
    "        \"transforms\": [To(device), View(1, 128, 128)],\n",
    "    },\n",
    ")"
   ]
  },
  {
   "cell_type": "code",
   "execution_count": null,
   "id": "170cace8",
   "metadata": {
    "id": "3c4cdce1"
   },
   "outputs": [],
   "source": [
    "training_flow(generator, discriminator)"
   ]
  }
 ],
 "metadata": {
  "jupytext": {
   "encoding": "# -*- coding: utf-8 -*-",
   "formats": "ipynb,py:light",
   "main_language": "python"
  },
  "kernelspec": {
   "display_name": "Python 3",
   "name": "python3"
  }
 },
 "nbformat": 4,
 "nbformat_minor": 5
}
