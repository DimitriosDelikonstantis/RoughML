{
 "cells": [
  {
   "cell_type": "markdown",
   "id": "8df50df4",
   "metadata": {
    "colab_type": "text",
    "id": "view-in-github"
   },
   "source": [
    "<a href=\"https://colab.research.google.com/github/billsioros/thesis/blob/master/Nanorough_surface_Super_resolution.ipynb\" target=\"_parent\"><img src=\"https://colab.research.google.com/assets/colab-badge.svg\" alt=\"Open In Colab\"/></a>"
   ]
  },
  {
   "cell_type": "markdown",
   "id": "cce26209",
   "metadata": {
    "id": "_XIigYPTAMAH"
   },
   "source": [
    "# ✔️ Prerequisites"
   ]
  },
  {
   "cell_type": "markdown",
   "id": "affab565",
   "metadata": {
    "id": "sv3lJtoU-aoQ"
   },
   "source": [
    "First of all we need to take care of a few **prerequisites**, most notably:\n",
    "\n",
    "- Install the various pip modules that we will be using.\n",
    "- Install some linux specific dependencies of our [content loss](#content-loss).\n",
    "- Initialize the Random Number Generator(s), so that our experiments can be replicated.\n",
    "- Determine:\n",
    "  - The current working directory, as it's going to be used to reference various files such as the dataset, our model checkpoints e.t.c\n",
    "  - The available hardware backend. GPU utilization is preferable, as it results in higher complition time.\n",
    "- `(Optionally)` Mount Google Drive, where we can load our dataset from."
   ]
  },
  {
   "cell_type": "markdown",
   "id": "16a902e2",
   "metadata": {
    "id": "ehWvZSwBXSXI"
   },
   "source": [
    "## Installing [graphviz](https://graphviz.org/) & [libgraphviz-dev](https://packages.debian.org/jessie/libgraphviz-dev)"
   ]
  },
  {
   "cell_type": "markdown",
   "id": "8c0cdd85",
   "metadata": {
    "id": "12JZQTC3YaxN"
   },
   "source": [
    "The aforementioned packages are required by [PyINSECT](https://github.com/billsioros/PyINSECT/tree/implementing-HPGs) and more specifically its graph plotting methods."
   ]
  },
  {
   "cell_type": "code",
   "execution_count": null,
   "id": "919734ca",
   "metadata": {
    "cellView": "code",
    "colab": {
     "base_uri": "https://localhost:8080/"
    },
    "id": "ANi0d4-f57Qc",
    "outputId": "908da9e3-f467-4c34-815e-29b23b68b8c8"
   },
   "outputs": [],
   "source": [
    "!sudo apt-get install graphviz libgraphviz-dev"
   ]
  },
  {
   "cell_type": "markdown",
   "id": "7f5668f4",
   "metadata": {
    "id": "f1mdRrYGM60R"
   },
   "source": [
    "## Installing the required `pip` modules"
   ]
  },
  {
   "cell_type": "markdown",
   "id": "aebad6f1",
   "metadata": {
    "id": "l5FLZ3mv_ho8"
   },
   "source": [
    "- [torch](https://pytorch.org/) is our machine learning framework of choice.\n",
    "- [numpy](https://numpy.org/), [sympy](https://www.sympy.org/en/index.html) and [scipy](https://www.scipy.org/) are used to in the context of nanorough surface generation.\n",
    "- [plotly](https://plotly.com/) (which requires [pandas](https://pandas.pydata.org/)) as well as [matplotlib](https://matplotlib.org/) are used in order to plot various graphs."
   ]
  },
  {
   "cell_type": "code",
   "execution_count": null,
   "id": "1057687b",
   "metadata": {
    "cellView": "code",
    "colab": {
     "base_uri": "https://localhost:8080/"
    },
    "id": "5fDiW2N-M60S",
    "outputId": "db16de1e-3558-495d-f0a0-0d672f11eb37"
   },
   "outputs": [],
   "source": [
    "!pip install torch numpy sympy scipy plotly pandas sklearn matplotlib==3.1.1 git+https://github.com/billsioros/PyINSECT.git@FEATURE_Implementing_HPGraphCollector git+https://github.com/billsioros/thesis.git"
   ]
  },
  {
   "cell_type": "markdown",
   "id": "0192c059",
   "metadata": {
    "id": "WktNsUHMAS63"
   },
   "source": [
    "## Initializing (a.k.a `Seeding`) the Random Number Generator(s)"
   ]
  },
  {
   "cell_type": "markdown",
   "id": "fa44f756",
   "metadata": {
    "id": "-1mLAArpLX7A"
   },
   "source": [
    "We are required to seed various random number generation engines, so that our experiments can be replicated on a later date."
   ]
  },
  {
   "cell_type": "code",
   "execution_count": null,
   "id": "5daee8da",
   "metadata": {
    "cellView": "code",
    "id": "iw9sr-9MA-dI"
   },
   "outputs": [],
   "source": [
    "SEED = 1234\n",
    "\n",
    "import os\n",
    "import random\n",
    "\n",
    "import numpy as np"
   ]
  },
  {
   "cell_type": "code",
   "execution_count": null,
   "id": "4d6c30c9",
   "metadata": {
    "cellView": "code",
    "id": "QMnousxlAbPV"
   },
   "outputs": [],
   "source": [
    "import torch\n",
    "\n",
    "if SEED is not None:\n",
    "    np.random.seed(SEED)\n",
    "    random.seed(SEED)\n",
    "    torch.manual_seed(SEED)\n",
    "    torch.cuda.manual_seed(SEED)\n",
    "    torch.backends.cudnn.deterministic = True\n",
    "    os.environ[\"PYTHONHASHSEED\"] = str(SEED)"
   ]
  },
  {
   "cell_type": "markdown",
   "id": "19e0a6d0",
   "metadata": {
    "id": "zxhexKDEM60T"
   },
   "source": [
    "## Determining the Current Working Directory"
   ]
  },
  {
   "cell_type": "code",
   "execution_count": null,
   "id": "945a9ccd",
   "metadata": {
    "cellView": "code",
    "id": "1oRdJanBM60T"
   },
   "outputs": [],
   "source": [
    "from pathlib import Path\n",
    "\n",
    "BASE_DIR = Path.cwd()"
   ]
  },
  {
   "cell_type": "markdown",
   "id": "94c4d99f",
   "metadata": {
    "id": "ptZs2vpwNwJg"
   },
   "source": [
    "## Mounting Google Drive"
   ]
  },
  {
   "cell_type": "code",
   "execution_count": null,
   "id": "12dcaea0",
   "metadata": {
    "cellView": "code",
    "id": "NXUKAqjuOvpK"
   },
   "outputs": [],
   "source": [
    "GDRIVE_DIR = BASE_DIR / \"drive\""
   ]
  },
  {
   "cell_type": "code",
   "execution_count": null,
   "id": "e24f0051",
   "metadata": {
    "cellView": "code",
    "colab": {
     "base_uri": "https://localhost:8080/"
    },
    "id": "musKsMGXNyQM",
    "outputId": "f98fd15d-99ee-4beb-e25a-82069ff8bf49"
   },
   "outputs": [],
   "source": [
    "try:\n",
    "    from google.colab import drive\n",
    "\n",
    "    drive.mount(f\"{GDRIVE_DIR}\")\n",
    "except ImportError:\n",
    "    pass"
   ]
  },
  {
   "cell_type": "markdown",
   "id": "6fce8a2a",
   "metadata": {
    "id": "JflfjrdmDqL0"
   },
   "source": [
    "## Determining available backend"
   ]
  },
  {
   "cell_type": "markdown",
   "id": "5ca328f8",
   "metadata": {
    "id": "x1IGaiyqYIoI"
   },
   "source": [
    "By default, we are going to be utilizing the available CPU backend, if no GPU is available."
   ]
  },
  {
   "cell_type": "code",
   "execution_count": null,
   "id": "ebabd4a5",
   "metadata": {
    "cellView": "code",
    "id": "ykoV8K_vDurq"
   },
   "outputs": [],
   "source": [
    "device = \"cpu\"\n",
    "if torch.cuda.is_available():\n",
    "    device = \"cuda:0\""
   ]
  },
  {
   "cell_type": "code",
   "execution_count": null,
   "id": "520ba5c1",
   "metadata": {
    "cellView": "code",
    "id": "NYf2R4B1VgvI"
   },
   "outputs": [],
   "source": [
    "device = torch.device(device)"
   ]
  },
  {
   "cell_type": "markdown",
   "id": "64c09dfe",
   "metadata": {
    "id": "oQ2HamjCaPFw"
   },
   "source": [
    "## Configuring our Loggers"
   ]
  },
  {
   "cell_type": "code",
   "execution_count": null,
   "id": "5eea1ad8",
   "metadata": {
    "cellView": "code",
    "id": "FDPrOnIyaVQV"
   },
   "outputs": [],
   "source": [
    "import logging\n",
    "\n",
    "logging.basicConfig(\n",
    "    format=\"[%(asctime)s] %(levelname)s:%(name)s: %(message)s\", level=logging.CRITICAL\n",
    ")"
   ]
  },
  {
   "cell_type": "code",
   "execution_count": null,
   "id": "b45114ef",
   "metadata": {
    "id": "KXIF2OMgV1rj"
   },
   "outputs": [],
   "source": [
    "logger = logging.getLogger()"
   ]
  },
  {
   "cell_type": "markdown",
   "id": "60d78d1e",
   "metadata": {},
   "source": [
    "# 🙃 A naive-approach"
   ]
  },
  {
   "cell_type": "markdown",
   "id": "ec374650",
   "metadata": {
    "id": "n8K2Yt4Yygnp"
   },
   "source": [
    "## Instantiating the **Generator** and the **Discriminator** Networks"
   ]
  },
  {
   "cell_type": "code",
   "execution_count": null,
   "id": "d6594cb1",
   "metadata": {
    "cellView": "code",
    "id": "EfhGL9wz_igq"
   },
   "outputs": [],
   "source": [
    "from roughml.models import PerceptronGenerator\n",
    "\n",
    "generator = PerceptronGenerator.from_device(device)"
   ]
  },
  {
   "cell_type": "code",
   "execution_count": null,
   "id": "4bff3a44",
   "metadata": {
    "cellView": "code",
    "colab": {
     "base_uri": "https://localhost:8080/"
    },
    "id": "oqW-HWLlqW0j",
    "outputId": "617dc2ad-e900-4f46-e0a1-ec1c7e9b6f58"
   },
   "outputs": [],
   "source": [
    "generator"
   ]
  },
  {
   "cell_type": "code",
   "execution_count": null,
   "id": "cac059ee",
   "metadata": {
    "cellView": "code",
    "id": "SllxLU-zqqfO"
   },
   "outputs": [],
   "source": [
    "from roughml.models import PerceptronDiscriminator\n",
    "\n",
    "discriminator = PerceptronDiscriminator.from_generator(generator, device=device)"
   ]
  },
  {
   "cell_type": "code",
   "execution_count": null,
   "id": "64022987",
   "metadata": {
    "cellView": "code",
    "colab": {
     "base_uri": "https://localhost:8080/"
    },
    "id": "XSirWsR3qZVq",
    "outputId": "b981661f-2537-4e03-9901-675c6019f16e"
   },
   "outputs": [],
   "source": [
    "discriminator"
   ]
  },
  {
   "cell_type": "markdown",
   "id": "eb813599",
   "metadata": {
    "id": "_Dev3j37tn3x"
   },
   "source": [
    "## Training"
   ]
  },
  {
   "cell_type": "code",
   "execution_count": null,
   "id": "8a131c21",
   "metadata": {
    "cellView": "code",
    "id": "nhk6EKKvYcSo"
   },
   "outputs": [],
   "source": [
    "from torch.nn import BCELoss\n",
    "\n",
    "criterion = BCELoss().to(device)"
   ]
  },
  {
   "cell_type": "code",
   "execution_count": null,
   "id": "90443487",
   "metadata": {
    "cellView": "code",
    "id": "4O4QebF6US_N"
   },
   "outputs": [],
   "source": [
    "from pathlib import Path\n",
    "\n",
    "CHECKPOINT_DIR = BASE_DIR / \"checkpoint\"\n",
    "CHECKPOINT_DIR.mkdir(parents=True, exist_ok=True)\n",
    "\n",
    "from roughml.content.loss import NGramGraphContentLoss\n",
    "from roughml.data.transforms import Flatten, To"
   ]
  },
  {
   "cell_type": "code",
   "execution_count": null,
   "id": "63114157",
   "metadata": {
    "cellView": "code",
    "id": "ky0tb0YFJQoG"
   },
   "outputs": [],
   "source": [
    "from roughml.training.flow import TrainingFlow\n",
    "from roughml.training.manager import per_epoch\n",
    "\n",
    "training_flow = TrainingFlow(\n",
    "    training_manager={\n",
    "        \"benchmark\": True,\n",
    "        \"checkpoint_dir\": CHECKPOINT_DIR,\n",
    "        \"checkpoint_multiple\": False,\n",
    "        \"train_epoch\": per_epoch,\n",
    "        \"log_every_n\": 10,\n",
    "        \"criterion\": criterion,\n",
    "        \"n_epochs\": 10,\n",
    "        \"train_ratio\": 0.8,\n",
    "        \"optimizer\": {\"lr\": 0.0005, \"weight_decay\": 0},\n",
    "        \"dataloader\": {\n",
    "            \"batch_size\": 256,\n",
    "            \"shuffle\": True,\n",
    "            \"num_workers\": 0,\n",
    "        },\n",
    "    },\n",
    "    content_loss_type=NGramGraphContentLoss,\n",
    "    dataset={\n",
    "        \"limit\": 10,\n",
    "        \"path\": GDRIVE_DIR / \"MyDrive\" / \"Thesis\" / \"Datasets\" / \"surfaces.zip\",\n",
    "        \"transforms\": [Flatten(), To(device)],\n",
    "    },\n",
    ")"
   ]
  },
  {
   "cell_type": "code",
   "execution_count": null,
   "id": "836ed418",
   "metadata": {
    "colab": {
     "base_uri": "https://localhost:8080/",
     "height": 573
    },
    "id": "iC8dJd352UCq",
    "outputId": "c45e8835-d52f-446d-bfc1-eca83af9e53b"
   },
   "outputs": [],
   "source": [
    "training_flow(generator, discriminator)"
   ]
  },
  {
   "cell_type": "markdown",
   "id": "fe589c1a",
   "metadata": {},
   "source": [
    "# 😎 A CNN based approach"
   ]
  },
  {
   "cell_type": "markdown",
   "id": "b16a4946",
   "metadata": {
    "id": "pz3FhXtfKfVS"
   },
   "source": [
    "## Instantiating the **Generator** and the **Discriminator** Networks"
   ]
  },
  {
   "cell_type": "code",
   "execution_count": null,
   "id": "e301a7a0",
   "metadata": {
    "cellView": "code",
    "id": "FfZnXKRwKfVT"
   },
   "outputs": [],
   "source": [
    "from src.roughml.models import CNNGenerator\n",
    "\n",
    "generator = CNNGenerator.from_device(device)"
   ]
  },
  {
   "cell_type": "code",
   "execution_count": null,
   "id": "36ffe487",
   "metadata": {
    "cellView": "code",
    "colab": {
     "base_uri": "https://localhost:8080/"
    },
    "id": "wCibc_0iqc3j",
    "outputId": "b05a34d2-4cbf-436f-c2f7-9ff31e19ebf7"
   },
   "outputs": [],
   "source": [
    "generator"
   ]
  },
  {
   "cell_type": "code",
   "execution_count": null,
   "id": "5a8a9aad",
   "metadata": {
    "cellView": "code",
    "id": "_S2URr5kKfVT"
   },
   "outputs": [],
   "source": [
    "from src.roughml.models import CNNDiscriminator\n",
    "\n",
    "discriminator = CNNDiscriminator.from_device(device)"
   ]
  },
  {
   "cell_type": "code",
   "execution_count": null,
   "id": "1d0a4a40",
   "metadata": {
    "cellView": "code",
    "colab": {
     "base_uri": "https://localhost:8080/"
    },
    "id": "A3zp9MZpqdem",
    "outputId": "fca9f23d-8b6d-46c7-db40-ec3baf785806"
   },
   "outputs": [],
   "source": [
    "discriminator"
   ]
  },
  {
   "cell_type": "markdown",
   "id": "7bbbcc22",
   "metadata": {
    "id": "oUyCo282KWod"
   },
   "source": [
    "## Training"
   ]
  },
  {
   "cell_type": "code",
   "execution_count": null,
   "id": "45778b4c",
   "metadata": {
    "cellView": "code",
    "id": "Pp0NBoc4KWoe"
   },
   "outputs": [],
   "source": [
    "from torch.nn import BCELoss\n",
    "\n",
    "criterion = BCELoss().to(device)\n",
    "\n",
    "from roughml.content.loss import ArrayGraph2DContentLoss\n",
    "from roughml.data.transforms import To, View"
   ]
  },
  {
   "cell_type": "code",
   "execution_count": null,
   "id": "82fb12f6",
   "metadata": {
    "cellView": "code",
    "id": "UrJuNU0tKWoe"
   },
   "outputs": [],
   "source": [
    "from roughml.training.flow import TrainingFlow\n",
    "from roughml.training.manager import per_epoch\n",
    "\n",
    "training_flow = TrainingFlow(\n",
    "    training_manager={\n",
    "        \"benchmark\": True,\n",
    "        \"checkpoint_dir\": CHECKPOINT_DIR,\n",
    "        \"checkpoint_multiple\": False,\n",
    "        \"train_epoch\": per_epoch,\n",
    "        \"log_every_n\": 10,\n",
    "        \"criterion\": criterion,\n",
    "        \"n_epochs\": 10,\n",
    "        \"train_ratio\": 0.8,\n",
    "        \"optimizer\": {\"lr\": 0.0002, \"betas\": (0.5, 0.999)},\n",
    "        \"dataloader\": {\n",
    "            \"batch_size\": 256,\n",
    "            \"shuffle\": True,\n",
    "            \"num_workers\": 0,\n",
    "        },\n",
    "    },\n",
    "    content_loss_type=ArrayGraph2DContentLoss,\n",
    "    dataset={\n",
    "        \"limit\": 10,\n",
    "        \"path\": GDRIVE_DIR / \"MyDrive\" / \"Thesis\" / \"Datasets\" / \"surfaces.zip\",\n",
    "        \"transforms\": [To(device), View(1, 128, 128)],\n",
    "    },\n",
    ")"
   ]
  },
  {
   "cell_type": "code",
   "execution_count": null,
   "id": "3c4cdce1",
   "metadata": {
    "colab": {
     "base_uri": "https://localhost:8080/",
     "height": 573
    },
    "id": "1m2idVrat7_M",
    "outputId": "e698e816-34e0-4ad1-a1f7-1f61a9a04dcf"
   },
   "outputs": [],
   "source": [
    "training_flow(generator, discriminator)"
   ]
  }
 ],
 "metadata": {
  "jupytext": {
   "encoding": "# -*- coding: utf-8 -*-",
   "formats": "ipynb,py:light",
   "main_language": "python"
  },
  "kernelspec": {
   "display_name": "Python 3",
   "name": "python3"
  }
 },
 "nbformat": 4,
 "nbformat_minor": 5
}
