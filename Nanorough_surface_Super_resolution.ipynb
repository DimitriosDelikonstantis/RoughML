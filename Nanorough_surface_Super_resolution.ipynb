{
 "cells": [
  {
   "cell_type": "markdown",
   "metadata": {
    "colab_type": "text",
    "id": "view-in-github"
   },
   "source": [
    "<a href=\"https://colab.research.google.com/github/billsioros/thesis/blob/master/Nanorough_surface_Super_resolution.ipynb\" target=\"_parent\"><img src=\"https://colab.research.google.com/assets/colab-badge.svg\" alt=\"Open In Colab\"/></a>"
   ]
  },
  {
   "cell_type": "markdown",
   "metadata": {
    "id": "cce26209"
   },
   "source": [
    "# ✔️ Prerequisites"
   ]
  },
  {
   "cell_type": "markdown",
   "metadata": {
    "id": "affab565"
   },
   "source": [
    "First of all we need to take care of a few **prerequisites**, most notably:\n",
    "\n",
    "- Install the various pip modules that we will be using.\n",
    "- Install some linux specific dependencies of our [content loss](#content-loss).\n",
    "- Initialize the Random Number Generator(s), so that our experiments can be replicated.\n",
    "- Determine:\n",
    "  - The current working directory, as it's going to be used to reference various files such as the dataset, our model checkpoints e.t.c\n",
    "  - The available hardware backend. GPU utilization is preferable, as it results in higher complition time.\n",
    "- `(Optionally)` Mount Google Drive, where we can load our dataset from."
   ]
  },
  {
   "cell_type": "markdown",
   "metadata": {},
   "source": [
    "## Configuring our Loggers"
   ]
  },
  {
   "cell_type": "code",
   "execution_count": null,
   "metadata": {},
   "outputs": [],
   "source": [
    "import logging.config\n",
    "import os\n",
    "\n",
    "LOGGING_LEVEL = os.environ.get(\"LOGGING_LEVEL\", \"CRITICAL\").upper()\n",
    "\n",
    "logging.config.dictConfig(\n",
    "    {\n",
    "        \"version\": 1,\n",
    "        \"disable_existing_loggers\": True,\n",
    "        \"formatters\": {\n",
    "            \"standard\": {\"format\": \"[%(asctime)s] %(levelname)s:%(name)s: %(message)s\"}\n",
    "        },\n",
    "        \"handlers\": {\n",
    "            \"default\": {\n",
    "                \"level\": LOGGING_LEVEL,\n",
    "                \"formatter\": \"standard\",\n",
    "                \"class\": \"logging.StreamHandler\",\n",
    "            }\n",
    "        },\n",
    "        \"loggers\": {\"\": {\"handlers\": [\"default\"], \"level\": LOGGING_LEVEL}},\n",
    "    }\n",
    ")"
   ]
  },
  {
   "cell_type": "code",
   "execution_count": null,
   "metadata": {},
   "outputs": [],
   "source": [
    "import logging\n",
    "\n",
    "logger = logging.getLogger()"
   ]
  },
  {
   "cell_type": "markdown",
   "metadata": {
    "id": "19e0a6d0"
   },
   "source": [
    "## Determining the Current Working Directory"
   ]
  },
  {
   "cell_type": "code",
   "execution_count": null,
   "metadata": {
    "cellView": "code",
    "id": "945a9ccd"
   },
   "outputs": [],
   "source": [
    "from pathlib import Path\n",
    "\n",
    "BASE_DIR = Path.cwd()"
   ]
  },
  {
   "cell_type": "markdown",
   "metadata": {
    "id": "94c4d99f"
   },
   "source": [
    "## Mounting Google Drive"
   ]
  },
  {
   "cell_type": "code",
   "execution_count": null,
   "metadata": {
    "cellView": "code",
    "id": "12dcaea0"
   },
   "outputs": [],
   "source": [
    "GDRIVE_DIR = BASE_DIR / \"drive\""
   ]
  },
  {
   "cell_type": "code",
   "execution_count": null,
   "metadata": {
    "cellView": "code",
    "colab": {
     "base_uri": "https://localhost:8080/"
    },
    "id": "e24f0051",
    "outputId": "30ae6242-7890-45fb-97f4-7a3f98101b5c"
   },
   "outputs": [],
   "source": [
    "try:\n",
    "    from google.colab import drive\n",
    "\n",
    "    drive.mount(f\"{GDRIVE_DIR}\")\n",
    "except ImportError:\n",
    "    pass"
   ]
  },
  {
   "cell_type": "markdown",
   "metadata": {
    "id": "16a902e2"
   },
   "source": [
    "## Installing [graphviz](https://graphviz.org/) & [libgraphviz-dev](https://packages.debian.org/jessie/libgraphviz-dev)"
   ]
  },
  {
   "cell_type": "markdown",
   "metadata": {
    "id": "8c0cdd85"
   },
   "source": [
    "The aforementioned packages are required by [PyINSECT](https://github.com/billsioros/PyINSECT/tree/implementing-HPGs) and more specifically its graph plotting methods."
   ]
  },
  {
   "cell_type": "code",
   "execution_count": null,
   "metadata": {
    "cellView": "code",
    "colab": {
     "base_uri": "https://localhost:8080/"
    },
    "id": "919734ca",
    "outputId": "0767e6fd-b55e-4ebc-9e0e-11b243700c1c"
   },
   "outputs": [],
   "source": [
    "!sudo apt-get install graphviz libgraphviz-dev 1> /dev/null"
   ]
  },
  {
   "cell_type": "markdown",
   "metadata": {
    "id": "7f5668f4"
   },
   "source": [
    "## Installing the required `pip` modules"
   ]
  },
  {
   "cell_type": "markdown",
   "metadata": {
    "id": "aebad6f1"
   },
   "source": [
    "- [torch](https://pytorch.org/) is our machine learning framework of choice.\n",
    "- [numpy](https://numpy.org/), [sympy](https://www.sympy.org/en/index.html) and [scipy](https://www.scipy.org/) are used to in the context of nanorough surface generation.\n",
    "- [plotly](https://plotly.com/) (which requires [pandas](https://pandas.pydata.org/)) as well as [matplotlib](https://matplotlib.org/) are used in order to plot various graphs."
   ]
  },
  {
   "cell_type": "code",
   "execution_count": null,
   "metadata": {},
   "outputs": [],
   "source": [
    "WHEEL_VERSION = \"1.5.0\"\n",
    "WHEEL_FILE = \"roughml-%s-py3-none-any.whl\".format(\n",
    "    WHEEL_VERSION,\n",
    ")\n",
    "WHEEL_PATH = GDRIVE_DIR / \"MyDrive\" / \"Thesis\" / WHEEL_FILE"
   ]
  },
  {
   "cell_type": "code",
   "execution_count": null,
   "metadata": {
    "cellView": "code",
    "colab": {
     "base_uri": "https://localhost:8080/"
    },
    "id": "1057687b",
    "outputId": "2ab1f525-0235-4308-cabb-a7793277473b"
   },
   "outputs": [],
   "source": [
    "import subprocess\n",
    "import sys\n",
    "\n",
    "pip_freeze_output = subprocess.check_output(\n",
    "    [sys.executable, \"-m\", \"pip\", \"freeze\"]\n",
    ").decode()\n",
    "\n",
    "if \"roughml\" not in pip_freeze_output:\n",
    "    if WHEEL_PATH.is_file():\n",
    "        subprocess.check_call([sys.executable, \"-m\", \"pip\", \"install\", WHEEL_PATH])\n",
    "    else:\n",
    "        raise FileNotFoundError(WHEEL_PATH)"
   ]
  },
  {
   "cell_type": "markdown",
   "metadata": {
    "id": "0192c059"
   },
   "source": [
    "## Initializing (a.k.a `Seeding`) the Random Number Generator(s)"
   ]
  },
  {
   "cell_type": "markdown",
   "metadata": {
    "id": "fa44f756"
   },
   "source": [
    "We are required to seed various random number generation engines, so that our experiments can be replicated on a later date."
   ]
  },
  {
   "cell_type": "code",
   "execution_count": null,
   "metadata": {
    "cellView": "code",
    "id": "5daee8da"
   },
   "outputs": [],
   "source": [
    "SEED = 1234\n",
    "\n",
    "import os\n",
    "import random\n",
    "\n",
    "import numpy as np"
   ]
  },
  {
   "cell_type": "code",
   "execution_count": null,
   "metadata": {
    "cellView": "code",
    "id": "4d6c30c9"
   },
   "outputs": [],
   "source": [
    "import torch\n",
    "\n",
    "if SEED is not None:\n",
    "    np.random.seed(SEED)\n",
    "    random.seed(SEED)\n",
    "    torch.manual_seed(SEED)\n",
    "    torch.cuda.manual_seed(SEED)\n",
    "    torch.backends.cudnn.deterministic = True\n",
    "    os.environ[\"PYTHONHASHSEED\"] = str(SEED)"
   ]
  },
  {
   "cell_type": "markdown",
   "metadata": {
    "id": "6fce8a2a"
   },
   "source": [
    "## Determining available backend"
   ]
  },
  {
   "cell_type": "markdown",
   "metadata": {
    "id": "5ca328f8"
   },
   "source": [
    "By default, we are going to be utilizing the available CPU backend, if no GPU is available."
   ]
  },
  {
   "cell_type": "code",
   "execution_count": null,
   "metadata": {
    "cellView": "code",
    "id": "ebabd4a5"
   },
   "outputs": [],
   "source": [
    "device = \"cpu\"\n",
    "if torch.cuda.is_available():\n",
    "    device = \"cuda:0\""
   ]
  },
  {
   "cell_type": "code",
   "execution_count": null,
   "metadata": {
    "cellView": "code",
    "id": "520ba5c1"
   },
   "outputs": [],
   "source": [
    "device = torch.device(device)"
   ]
  },
  {
   "cell_type": "markdown",
   "metadata": {
    "id": "60d78d1e"
   },
   "source": [
    "# 🙃 A naive-approach"
   ]
  },
  {
   "cell_type": "markdown",
   "metadata": {
    "id": "ec374650"
   },
   "source": [
    "## Instantiating the **Generator** and the **Discriminator** Networks"
   ]
  },
  {
   "cell_type": "code",
   "execution_count": null,
   "metadata": {
    "cellView": "code",
    "id": "d6594cb1"
   },
   "outputs": [],
   "source": [
    "from roughml.models import PerceptronGenerator\n",
    "\n",
    "generator = PerceptronGenerator.from_device(device)"
   ]
  },
  {
   "cell_type": "code",
   "execution_count": null,
   "metadata": {
    "cellView": "code",
    "colab": {
     "base_uri": "https://localhost:8080/"
    },
    "id": "4bff3a44",
    "outputId": "9d75bc1a-7272-4fdb-902d-e689a0627517"
   },
   "outputs": [],
   "source": [
    "generator"
   ]
  },
  {
   "cell_type": "code",
   "execution_count": null,
   "metadata": {
    "cellView": "code",
    "id": "cac059ee"
   },
   "outputs": [],
   "source": [
    "from roughml.models import PerceptronDiscriminator\n",
    "\n",
    "discriminator = PerceptronDiscriminator.from_generator(generator)"
   ]
  },
  {
   "cell_type": "code",
   "execution_count": null,
   "metadata": {
    "cellView": "code",
    "colab": {
     "base_uri": "https://localhost:8080/"
    },
    "id": "64022987",
    "outputId": "7adfec62-6485-49aa-c5e9-667d291b03e9"
   },
   "outputs": [],
   "source": [
    "discriminator"
   ]
  },
  {
   "cell_type": "markdown",
   "metadata": {
    "id": "eb813599"
   },
   "source": [
    "## Training"
   ]
  },
  {
   "cell_type": "code",
   "execution_count": null,
   "metadata": {
    "cellView": "code",
    "id": "8a131c21"
   },
   "outputs": [],
   "source": [
    "from torch.nn import BCELoss\n",
    "\n",
    "criterion = BCELoss().to(device)"
   ]
  },
  {
   "cell_type": "code",
   "execution_count": null,
   "metadata": {
    "cellView": "code",
    "id": "90443487",
    "tags": []
   },
   "outputs": [],
   "source": [
    "from pathlib import Path\n",
    "\n",
    "CHECKPOINT_DIR = BASE_DIR / \"checkpoint\"\n",
    "CHECKPOINT_DIR.mkdir(parents=True, exist_ok=True)\n",
    "\n",
    "from roughml.content.loss import NGramGraphContentLoss\n",
    "from roughml.data.transforms import To, View"
   ]
  },
  {
   "cell_type": "code",
   "execution_count": null,
   "metadata": {
    "cellView": "code",
    "id": "63114157"
   },
   "outputs": [],
   "source": [
    "from roughml.training.flow import TrainingFlow\n",
    "from roughml.training.manager import per_epoch\n",
    "\n",
    "training_flow = TrainingFlow(\n",
    "    training_manager={\n",
    "        \"benchmark\": True,\n",
    "        \"checkpoint\": {\"directory\": CHECKPOINT_DIR, \"multiple\": True},\n",
    "        \"train_epoch\": per_epoch,\n",
    "        \"log_every_n\": 10,\n",
    "        \"criterion\": criterion,\n",
    "        \"n_epochs\": 10,\n",
    "        \"train_ratio\": 0.8,\n",
    "        \"optimizer\": {\"lr\": 0.0005, \"weight_decay\": 0},\n",
    "        \"dataloader\": {\n",
    "            \"batch_size\": 256,\n",
    "            \"shuffle\": True,\n",
    "            \"num_workers\": 0,\n",
    "        },\n",
    "    },\n",
    "    content_loss={\n",
    "        \"type\": NGramGraphContentLoss,\n",
    "        \"cache\": CHECKPOINT_DIR / \"n_gram_graph_content_loss.pkl\",\n",
    "    },\n",
    "    dataset={\n",
    "        \"limit\": 10,\n",
    "        \"path\": GDRIVE_DIR / \"MyDrive\" / \"Thesis\" / \"Datasets\" / \"surfaces.zip\",\n",
    "        \"transforms\": [To(device), View(1, 128, 128)],\n",
    "    },\n",
    "    plot={\n",
    "        \"save_directory\": GDRIVE_DIR / \"MyDrive\" / \"Thesis\" / \"Images\",\n",
    "        \"grayscale\": {\"limit\": 10, \"save_path_fmt\": \"grayscale_%s_%02d.png\"},\n",
    "        \"surface\": {\"limit\": 10, \"save_path_fmt\": \"surface_%s_%02d.png\"},\n",
    "    },\n",
    ")"
   ]
  },
  {
   "cell_type": "code",
   "execution_count": null,
   "metadata": {
    "colab": {
     "base_uri": "https://localhost:8080/",
     "height": 573
    },
    "id": "836ed418",
    "outputId": "f4d7ef3c-027c-4725-9f07-50e4d7c28ff1",
    "tags": []
   },
   "outputs": [],
   "source": [
    "training_flow(generator, discriminator)"
   ]
  },
  {
   "cell_type": "markdown",
   "metadata": {
    "id": "fe589c1a"
   },
   "source": [
    "# 😎 A CNN based approach"
   ]
  },
  {
   "cell_type": "markdown",
   "metadata": {
    "id": "b16a4946"
   },
   "source": [
    "## Instantiating the **Generator** and the **Discriminator** Networks"
   ]
  },
  {
   "cell_type": "code",
   "execution_count": null,
   "metadata": {
    "cellView": "code",
    "id": "e301a7a0"
   },
   "outputs": [],
   "source": [
    "from roughml.models import CNNGenerator\n",
    "\n",
    "generator = CNNGenerator.from_device(device)"
   ]
  },
  {
   "cell_type": "code",
   "execution_count": null,
   "metadata": {
    "cellView": "code",
    "colab": {
     "base_uri": "https://localhost:8080/"
    },
    "id": "36ffe487",
    "outputId": "eb6bbc54-4dd6-48f7-bf24-20becc244a3a"
   },
   "outputs": [],
   "source": [
    "generator"
   ]
  },
  {
   "cell_type": "code",
   "execution_count": null,
   "metadata": {
    "cellView": "code",
    "id": "5a8a9aad"
   },
   "outputs": [],
   "source": [
    "from roughml.models import CNNDiscriminator\n",
    "\n",
    "discriminator = CNNDiscriminator.from_device(device)"
   ]
  },
  {
   "cell_type": "code",
   "execution_count": null,
   "metadata": {
    "cellView": "code",
    "colab": {
     "base_uri": "https://localhost:8080/"
    },
    "id": "1d0a4a40",
    "outputId": "2c54123a-5dce-4405-a82e-a28c832e678e"
   },
   "outputs": [],
   "source": [
    "discriminator"
   ]
  },
  {
   "cell_type": "markdown",
   "metadata": {
    "id": "7bbbcc22"
   },
   "source": [
    "## Training"
   ]
  },
  {
   "cell_type": "code",
   "execution_count": null,
   "metadata": {
    "cellView": "code",
    "id": "45778b4c"
   },
   "outputs": [],
   "source": [
    "from torch.nn import BCELoss\n",
    "\n",
    "criterion = BCELoss().to(device)"
   ]
  },
  {
   "cell_type": "code",
   "execution_count": null,
   "metadata": {
    "id": "QOVvzTEv0o6V"
   },
   "outputs": [],
   "source": [
    "from pathlib import Path\n",
    "\n",
    "CHECKPOINT_DIR = BASE_DIR / \"checkpoint\"\n",
    "CHECKPOINT_DIR.mkdir(parents=True, exist_ok=True)\n",
    "\n",
    "from roughml.content.loss import ArrayGraph2DContentLoss\n",
    "from roughml.data.transforms import To, View"
   ]
  },
  {
   "cell_type": "code",
   "execution_count": null,
   "metadata": {
    "cellView": "code",
    "id": "82fb12f6"
   },
   "outputs": [],
   "source": [
    "from roughml.training.flow import TrainingFlow\n",
    "from roughml.training.manager import per_epoch\n",
    "\n",
    "training_flow = TrainingFlow(\n",
    "    training_manager={\n",
    "        \"benchmark\": True,\n",
    "        \"checkpoint\": {\"directory\": CHECKPOINT_DIR, \"multiple\": True},\n",
    "        \"train_epoch\": per_epoch,\n",
    "        \"log_every_n\": 10,\n",
    "        \"criterion\": criterion,\n",
    "        \"n_epochs\": 10,\n",
    "        \"train_ratio\": 0.8,\n",
    "        \"optimizer\": {\"lr\": 0.0002, \"betas\": (0.5, 0.999)},\n",
    "        \"dataloader\": {\n",
    "            \"batch_size\": 256,\n",
    "            \"shuffle\": True,\n",
    "            \"num_workers\": 0,\n",
    "        },\n",
    "    },\n",
    "    content_loss={\n",
    "        \"type\": ArrayGraph2DContentLoss,\n",
    "        \"cache\": CHECKPOINT_DIR / \"array_graph2d_content_loss.pkl\",\n",
    "    },\n",
    "    dataset={\n",
    "        \"limit\": 10,\n",
    "        \"path\": GDRIVE_DIR / \"MyDrive\" / \"Thesis\" / \"Datasets\" / \"surfaces.zip\",\n",
    "        \"transforms\": [To(device), View(1, 128, 128)],\n",
    "    },\n",
    "    animation={\n",
    "        \"indices\": [\n",
    "            0,\n",
    "        ],\n",
    "        \"save_path\": Path.cwd() / \"cnn_per_epoch_animation.mp4\",\n",
    "    },\n",
    "    plot={\n",
    "        \"save_directory\": GDRIVE_DIR / \"MyDrive\" / \"Thesis\" / \"Images\",\n",
    "        \"grayscale\": {\"limit\": 10, \"save_path_fmt\": \"grayscale_%s_%02d.png\"},\n",
    "        \"surface\": {\"limit\": 10, \"save_path_fmt\": \"surface_%s_%02d.png\"},\n",
    "    },\n",
    ")"
   ]
  },
  {
   "cell_type": "code",
   "execution_count": null,
   "metadata": {
    "colab": {
     "base_uri": "https://localhost:8080/",
     "height": 573
    },
    "id": "3c4cdce1",
    "outputId": "c22dfcc0-c6d9-4726-c197-acf11bdec52f"
   },
   "outputs": [],
   "source": [
    "training_flow(generator, discriminator)"
   ]
  },
  {
   "cell_type": "markdown",
   "metadata": {},
   "source": [
    "## Dismounting Google Drive and persisting any changes made"
   ]
  },
  {
   "cell_type": "code",
   "execution_count": null,
   "metadata": {},
   "outputs": [],
   "source": [
    "drive.flush_and_unmount()"
   ]
  }
 ],
 "metadata": {
  "interpreter": {
   "hash": "dcff33cba0d974cb7ce94d9985d2cd3e06512769c7e1548671f2499990753d41"
  },
  "jupytext": {
   "encoding": "# -*- coding: utf-8 -*-",
   "formats": "ipynb,py:light",
   "main_language": "python"
  },
  "kernelspec": {
   "display_name": "",
   "name": ""
  },
  "language_info": {
   "name": "python",
   "version": ""
  }
 },
 "nbformat": 4,
 "nbformat_minor": 5
}
