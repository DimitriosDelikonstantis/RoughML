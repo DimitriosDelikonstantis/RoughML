{
 "cells": [
  {
   "cell_type": "markdown",
   "id": "2f834b6d",
   "metadata": {
    "colab_type": "text",
    "id": "view-in-github"
   },
   "source": [
    "<a href=\"https://colab.research.google.com/github/billsioros/thesis/blob/master/Nanorough_surface_Super_resolution.ipynb\" target=\"_parent\"><img src=\"https://colab.research.google.com/assets/colab-badge.svg\" alt=\"Open In Colab\"/></a>"
   ]
  },
  {
   "cell_type": "markdown",
   "id": "eed7171f",
   "metadata": {
    "id": "cce26209"
   },
   "source": [
    "# ✔️ Prerequisites"
   ]
  },
  {
   "cell_type": "markdown",
   "id": "d80e8768",
   "metadata": {
    "id": "affab565"
   },
   "source": [
    "First of all we need to take care of a few **prerequisites**, most notably:\n",
    "\n",
    "- Install the various pip modules that we will be using.\n",
    "- Install some linux specific dependencies of our [content loss](#content-loss).\n",
    "- Initialize the Random Number Generator(s), so that our experiments can be replicated.\n",
    "- Determine:\n",
    "  - The current working directory, as it's going to be used to reference various files such as the dataset, our model checkpoints e.t.c\n",
    "  - The available hardware backend. GPU utilization is preferable, as it results in higher complition time.\n",
    "- `(Optionally)` Mount Google Drive, where we can load our dataset from."
   ]
  },
  {
   "cell_type": "markdown",
   "id": "7131a6be",
   "metadata": {
    "id": "19e0a6d0"
   },
   "source": [
    "## Determining the Current Working Directory"
   ]
  },
  {
   "cell_type": "code",
   "execution_count": null,
   "id": "c533673b",
   "metadata": {
    "cellView": "code",
    "id": "945a9ccd"
   },
   "outputs": [],
   "source": [
    "from pathlib import Path\n",
    "\n",
    "BASE_DIR = Path.cwd()"
   ]
  },
  {
   "cell_type": "markdown",
   "id": "443042f1",
   "metadata": {
    "id": "94c4d99f"
   },
   "source": [
    "## Mounting Google Drive"
   ]
  },
  {
   "cell_type": "code",
   "execution_count": null,
   "id": "ee7c2711",
   "metadata": {
    "cellView": "code",
    "colab": {
     "base_uri": "https://localhost:8080/"
    },
    "id": "e24f0051",
    "outputId": "30ae6242-7890-45fb-97f4-7a3f98101b5c"
   },
   "outputs": [],
   "source": [
    "GDRIVE_DIR = BASE_DIR / \"drive\"\n",
    "\n",
    "try:\n",
    "    from google.colab import drive\n",
    "\n",
    "    drive.mount(f\"{GDRIVE_DIR}\")\n",
    "except ImportError:\n",
    "    pass"
   ]
  },
  {
   "cell_type": "code",
   "execution_count": null,
   "id": "e9b20ab6",
   "metadata": {},
   "outputs": [],
   "source": [
    "SECRETS_DIR = GDRIVE_DIR / \"MyDrive\" / \"Secrets\"\n",
    "\n",
    "if GDRIVE_DIR.is_dir():\n",
    "    THESIS_DIR = GDRIVE_DIR / \"MyDrive\" / \"Thesis\"\n",
    "else:\n",
    "    THESIS_DIR = BASE_DIR\n",
    "\n",
    "OUTPUT_DIR = THESIS_DIR / \"Output\"\n",
    "\n",
    "if THESIS_DIR.is_dir():\n",
    "    DATASET_DIR = THESIS_DIR / \"Datasets\"\n",
    "else:\n",
    "    DATASET_DIR = BASE_DIR / \"Datasets\""
   ]
  },
  {
   "cell_type": "markdown",
   "id": "ea515127",
   "metadata": {},
   "source": [
    "## Configuring our Loggers"
   ]
  },
  {
   "cell_type": "code",
   "execution_count": null,
   "id": "77365e99",
   "metadata": {},
   "outputs": [],
   "source": [
    "import os\n",
    "\n",
    "LOGGING_LEVEL = os.environ.get(\"LOGGING_LEVEL\", \"CRITICAL\").upper()\n",
    "\n",
    "LOGGING_CONFIG = {\n",
    "    \"version\": 1,\n",
    "    \"disable_existing_loggers\": False,\n",
    "    \"formatters\": {\n",
    "        \"standard\": {\"format\": \"[%(asctime)s] %(levelname)s:%(name)s: %(message)s\"}\n",
    "    },\n",
    "    \"handlers\": {\n",
    "        \"default\": {\n",
    "            \"level\": LOGGING_LEVEL,\n",
    "            \"formatter\": \"standard\",\n",
    "            \"class\": \"logging.StreamHandler\",\n",
    "        },\n",
    "        \"file\": {\n",
    "            \"level\": LOGGING_LEVEL,\n",
    "            \"formatter\": \"standard\",\n",
    "            \"class\": \"logging.FileHandler\",\n",
    "        },\n",
    "    },\n",
    "    \"loggers\": {\"\": {\"handlers\": [\"default\", \"file\"], \"level\": LOGGING_LEVEL}},\n",
    "}"
   ]
  },
  {
   "cell_type": "markdown",
   "id": "f528250e",
   "metadata": {
    "id": "16a902e2"
   },
   "source": [
    "## Installing [graphviz](https://graphviz.org/) & [libgraphviz-dev](https://packages.debian.org/jessie/libgraphviz-dev)"
   ]
  },
  {
   "cell_type": "markdown",
   "id": "3d81e519",
   "metadata": {
    "id": "8c0cdd85"
   },
   "source": [
    "The aforementioned packages are required by [PyINSECT](https://github.com/billsioros/PyINSECT/tree/implementing-HPGs) and more specifically its graph plotting methods."
   ]
  },
  {
   "cell_type": "code",
   "execution_count": null,
   "id": "0e3ddb67",
   "metadata": {
    "cellView": "code",
    "colab": {
     "base_uri": "https://localhost:8080/"
    },
    "id": "919734ca",
    "outputId": "0767e6fd-b55e-4ebc-9e0e-11b243700c1c"
   },
   "outputs": [],
   "source": [
    "!sudo apt-get install graphviz libgraphviz-dev 1> /dev/null"
   ]
  },
  {
   "cell_type": "markdown",
   "id": "690cff25",
   "metadata": {
    "id": "7f5668f4"
   },
   "source": [
    "## Installing the required `pip` modules"
   ]
  },
  {
   "cell_type": "markdown",
   "id": "ae3d8e73",
   "metadata": {
    "id": "aebad6f1"
   },
   "source": [
    "- [torch](https://pytorch.org/) is our machine learning framework of choice.\n",
    "- [numpy](https://numpy.org/), [sympy](https://www.sympy.org/en/index.html) and [scipy](https://www.scipy.org/) are used to in the context of nanorough surface generation.\n",
    "- [plotly](https://plotly.com/) (which requires [pandas](https://pandas.pydata.org/)) as well as [matplotlib](https://matplotlib.org/) are used in order to plot various graphs."
   ]
  },
  {
   "cell_type": "code",
   "execution_count": null,
   "id": "be20e666",
   "metadata": {},
   "outputs": [],
   "source": [
    "WHEEL_VERSION = \"3.0.1\"\n",
    "WHEEL_FILE = \"roughml-%s-py3-none-any.whl\" % (WHEEL_VERSION,)\n",
    "WHEEL_PATH = THESIS_DIR / \"Binaries\" / WHEEL_FILE"
   ]
  },
  {
   "cell_type": "code",
   "execution_count": null,
   "id": "6af3deda",
   "metadata": {
    "cellView": "code",
    "colab": {
     "base_uri": "https://localhost:8080/"
    },
    "id": "1057687b",
    "outputId": "2ab1f525-0235-4308-cabb-a7793277473b"
   },
   "outputs": [],
   "source": [
    "import subprocess\n",
    "import sys\n",
    "\n",
    "pip_freeze_output = subprocess.check_output(\n",
    "    [sys.executable, \"-m\", \"pip\", \"freeze\"]\n",
    ").decode()\n",
    "\n",
    "if \"roughml\" not in pip_freeze_output:\n",
    "    if WHEEL_PATH.is_file():\n",
    "        subprocess.check_call([sys.executable, \"-m\", \"pip\", \"install\", WHEEL_PATH])\n",
    "    else:\n",
    "        raise FileNotFoundError(WHEEL_PATH)"
   ]
  },
  {
   "cell_type": "markdown",
   "id": "dc606d7b",
   "metadata": {
    "id": "0192c059"
   },
   "source": [
    "## Initializing (a.k.a `Seeding`) the Random Number Generator(s)"
   ]
  },
  {
   "cell_type": "markdown",
   "id": "d9cf4200",
   "metadata": {
    "id": "fa44f756"
   },
   "source": [
    "We are required to seed various random number generation engines, so that our experiments can be replicated on a later date."
   ]
  },
  {
   "cell_type": "code",
   "execution_count": null,
   "id": "cd760bbe",
   "metadata": {
    "cellView": "code",
    "id": "5daee8da"
   },
   "outputs": [],
   "source": [
    "SEED = 1234\n",
    "\n",
    "import os\n",
    "import random\n",
    "\n",
    "import numpy as np"
   ]
  },
  {
   "cell_type": "code",
   "execution_count": null,
   "id": "355a02d4",
   "metadata": {
    "cellView": "code",
    "id": "4d6c30c9"
   },
   "outputs": [],
   "source": [
    "import torch\n",
    "\n",
    "if SEED is not None:\n",
    "    np.random.seed(SEED)\n",
    "    random.seed(SEED)\n",
    "    torch.manual_seed(SEED)\n",
    "    torch.cuda.manual_seed(SEED)\n",
    "    torch.backends.cudnn.deterministic = True\n",
    "    os.environ[\"PYTHONHASHSEED\"] = str(SEED)"
   ]
  },
  {
   "cell_type": "markdown",
   "id": "93c6d8dc",
   "metadata": {
    "id": "6fce8a2a"
   },
   "source": [
    "## Determining available backend"
   ]
  },
  {
   "cell_type": "markdown",
   "id": "febdbe81",
   "metadata": {
    "id": "5ca328f8"
   },
   "source": [
    "By default, we are going to be utilizing the available CPU backend, if no GPU is available."
   ]
  },
  {
   "cell_type": "code",
   "execution_count": null,
   "id": "bd0c59ac",
   "metadata": {
    "cellView": "code",
    "id": "ebabd4a5"
   },
   "outputs": [],
   "source": [
    "device = \"cpu\"\n",
    "if torch.cuda.is_available():\n",
    "    device = \"cuda:0\""
   ]
  },
  {
   "cell_type": "code",
   "execution_count": null,
   "id": "f5d1dc2e",
   "metadata": {
    "cellView": "code",
    "id": "520ba5c1",
    "lines_to_next_cell": 2
   },
   "outputs": [],
   "source": [
    "device = torch.device(device)"
   ]
  },
  {
   "cell_type": "markdown",
   "id": "695a28ca",
   "metadata": {},
   "source": [
    "## Setting up our callbacks"
   ]
  },
  {
   "cell_type": "markdown",
   "id": "8bc03fd1",
   "metadata": {},
   "source": [
    "### End-of-training callback"
   ]
  },
  {
   "cell_type": "code",
   "execution_count": null,
   "id": "ef4ed940",
   "metadata": {
    "lines_to_end_of_cell_marker": 2
   },
   "outputs": [],
   "source": [
    "from datetime import datetime\n",
    "\n",
    "from roughml.shared.notifiers import EndOfTrainingNotifier\n",
    "\n",
    "training_callback = None\n",
    "if SECRETS_DIR.is_dir():\n",
    "    notifier = EndOfTrainingNotifier.from_json(SECRETS_DIR / \"credentials.json\")\n",
    "\n",
    "    timestamp = datetime.now().strftime(\"%Y/%m/%d %H:%M:%S.%f\")\n",
    "\n",
    "    def training_callback(log_file=None, **context):\n",
    "        notifier(\n",
    "            (\"Vasilis Sioros\", \"billsioros97@gmail.com\"),\n",
    "            log_file=log_file,\n",
    "            dataset=context[\"dataset\"],\n",
    "            generator=context[\"generator\"],\n",
    "            discriminator=context[\"discriminator\"],\n",
    "            elapsed_time=context[\"elapsed_time\"],\n",
    "            succeeded=context[\"succeeded\"],\n",
    "            identifier=timestamp,\n",
    "        )"
   ]
  },
  {
   "cell_type": "markdown",
   "id": "d4b1271e",
   "metadata": {
    "lines_to_next_cell": 2
   },
   "source": [
    "### Logging initialization callback"
   ]
  },
  {
   "cell_type": "code",
   "execution_count": null,
   "id": "7d6715f9",
   "metadata": {},
   "outputs": [],
   "source": [
    "def logging_callback(config, logging_dir):\n",
    "    level = config.handlers.file.level.lower()\n",
    "\n",
    "    config.handlers.file.filename = logging_dir / f\"{level}.log\"\n",
    "\n",
    "    return config"
   ]
  },
  {
   "cell_type": "markdown",
   "id": "de9074ef",
   "metadata": {
    "id": "60d78d1e"
   },
   "source": [
    "# 🙃 A naive-approach"
   ]
  },
  {
   "cell_type": "markdown",
   "id": "ef7142cc",
   "metadata": {
    "id": "ec374650"
   },
   "source": [
    "## Defining the **Generator** and the **Discriminator** instantiation callbacks"
   ]
  },
  {
   "cell_type": "code",
   "execution_count": null,
   "id": "d4937d29",
   "metadata": {
    "cellView": "code",
    "id": "d6594cb1"
   },
   "outputs": [],
   "source": [
    "from roughml.models import PerceptronGenerator\n",
    "\n",
    "\n",
    "def get_generator():\n",
    "    return PerceptronGenerator.from_device(device)"
   ]
  },
  {
   "cell_type": "code",
   "execution_count": null,
   "id": "d5348e17",
   "metadata": {
    "cellView": "code",
    "id": "cac059ee"
   },
   "outputs": [],
   "source": [
    "from roughml.models import PerceptronDiscriminator\n",
    "\n",
    "\n",
    "def get_discriminator(generator):\n",
    "    return PerceptronDiscriminator.from_generator(generator)"
   ]
  },
  {
   "cell_type": "markdown",
   "id": "2578ae4e",
   "metadata": {
    "id": "eb813599"
   },
   "source": [
    "## Training"
   ]
  },
  {
   "cell_type": "code",
   "execution_count": null,
   "id": "b4922e8a",
   "metadata": {
    "cellView": "code",
    "id": "8a131c21"
   },
   "outputs": [],
   "source": [
    "from torch.nn import BCELoss\n",
    "\n",
    "criterion = BCELoss().to(device)"
   ]
  },
  {
   "cell_type": "code",
   "execution_count": null,
   "id": "9bc3ef45",
   "metadata": {
    "cellView": "code",
    "id": "63114157"
   },
   "outputs": [],
   "source": [
    "import functools\n",
    "\n",
    "from roughml.content.loss import NGramGraphContentLoss\n",
    "from roughml.data.loaders import load_multiple_datasets_from_pt\n",
    "from roughml.data.transforms import To, View\n",
    "from roughml.training.flow import TrainingFlow\n",
    "from roughml.training.manager import per_epoch\n",
    "\n",
    "training_flow = TrainingFlow(\n",
    "    output_dir=OUTPUT_DIR,\n",
    "    logging={\"config\": LOGGING_CONFIG, \"callback\": logging_callback},\n",
    "    training={\n",
    "        \"manager\": {\n",
    "            \"benchmark\": True,\n",
    "            # Uncomment if you want to enable checkpointing\n",
    "            # \"checkpoint\": {\"multiple\": True},\n",
    "            \"train_epoch\": per_epoch,\n",
    "            \"log_every_n\": 10,\n",
    "            \"criterion\": {\"instance\": criterion},\n",
    "            \"n_epochs\": 10,\n",
    "            \"train_ratio\": 0.8,\n",
    "            \"optimizer\": {\"lr\": 0.0005, \"weight_decay\": 0},\n",
    "            \"dataloader\": {\n",
    "                \"batch_size\": 256,\n",
    "                \"shuffle\": True,\n",
    "                \"num_workers\": 0,\n",
    "            },\n",
    "        },\n",
    "        \"callbacks\": [\n",
    "            training_callback,\n",
    "        ],\n",
    "    },\n",
    "    content_loss={\n",
    "        \"type\": NGramGraphContentLoss,\n",
    "        # Uncomment if you want to enable checkpointing\n",
    "        # \"cache\": \"n_gram_graph_content_loss.pkl\",\n",
    "    },\n",
    "    data={\n",
    "        \"loader\": functools.partial(\n",
    "            load_multiple_datasets_from_pt,\n",
    "            DATASET_DIR,\n",
    "            transforms=[To(device), View(1, 128, 128)],\n",
    "            limit=(4, 10),\n",
    "        )\n",
    "    },\n",
    "    animation={\n",
    "        \"indices\": [\n",
    "            0,\n",
    "        ],\n",
    "        \"save_path\": \"cnn_per_epoch_animation.mp4\",\n",
    "    },\n",
    "    plot={\n",
    "        \"grayscale\": {\"limit\": 10, \"save_path_fmt\": \"grayscale/%s_%02d.png\"},\n",
    "        \"surface\": {\"limit\": 10, \"save_path_fmt\": \"surface/%s_%02d.png\"},\n",
    "        \"against\": {\"save_path_fmt\": \"against_%s.png\"},\n",
    "    },\n",
    "    suppress_exceptions=False,\n",
    ")"
   ]
  },
  {
   "cell_type": "code",
   "execution_count": null,
   "id": "fa40c10a",
   "metadata": {
    "colab": {
     "base_uri": "https://localhost:8080/",
     "height": 573
    },
    "id": "836ed418",
    "outputId": "f4d7ef3c-027c-4725-9f07-50e4d7c28ff1",
    "tags": []
   },
   "outputs": [],
   "source": [
    "training_flow(get_generator, get_discriminator)"
   ]
  },
  {
   "cell_type": "markdown",
   "id": "f9d66e93",
   "metadata": {
    "id": "fe589c1a"
   },
   "source": [
    "# 😎 A CNN based approach"
   ]
  },
  {
   "cell_type": "markdown",
   "id": "949ed098",
   "metadata": {
    "id": "b16a4946"
   },
   "source": [
    "## Instantiating the **Generator** and the **Discriminator** Networks"
   ]
  },
  {
   "cell_type": "code",
   "execution_count": null,
   "id": "ac1ff4ba",
   "metadata": {
    "cellView": "code",
    "id": "e301a7a0"
   },
   "outputs": [],
   "source": [
    "from roughml.models import CNNGenerator\n",
    "\n",
    "\n",
    "def get_generator():\n",
    "    return CNNGenerator.from_device(device)"
   ]
  },
  {
   "cell_type": "code",
   "execution_count": null,
   "id": "cd1bdfcc",
   "metadata": {
    "cellView": "code",
    "id": "5a8a9aad"
   },
   "outputs": [],
   "source": [
    "from roughml.models import CNNDiscriminator\n",
    "\n",
    "\n",
    "def get_discriminator(_):\n",
    "    return CNNDiscriminator.from_device(device)"
   ]
  },
  {
   "cell_type": "markdown",
   "id": "f5064c24",
   "metadata": {
    "id": "7bbbcc22"
   },
   "source": [
    "## Training"
   ]
  },
  {
   "cell_type": "code",
   "execution_count": null,
   "id": "52c40efc",
   "metadata": {
    "cellView": "code",
    "id": "45778b4c"
   },
   "outputs": [],
   "source": [
    "from torch.nn import BCELoss\n",
    "\n",
    "criterion = BCELoss().to(device)"
   ]
  },
  {
   "cell_type": "code",
   "execution_count": null,
   "id": "6f472c0c",
   "metadata": {
    "cellView": "code",
    "id": "82fb12f6"
   },
   "outputs": [],
   "source": [
    "import functools\n",
    "\n",
    "from roughml.content.loss import ArrayGraph2DContentLoss\n",
    "from roughml.data.transforms import To, View\n",
    "from roughml.training.flow import TrainingFlow\n",
    "from roughml.training.manager import per_epoch\n",
    "\n",
    "training_flow = TrainingFlow(\n",
    "    output_dir=OUTPUT_DIR,\n",
    "    logging={\"config\": LOGGING_CONFIG, \"callback\": logging_callback},\n",
    "    training={\n",
    "        \"manager\": {\n",
    "            \"benchmark\": True,\n",
    "            # Uncomment if you want to enable checkpointing\n",
    "            # \"checkpoint\": {\"multiple\": True},\n",
    "            \"train_epoch\": per_epoch,\n",
    "            \"log_every_n\": 10,\n",
    "            \"criterion\": {\"instance\": criterion},\n",
    "            \"n_epochs\": 10,\n",
    "            \"train_ratio\": 0.8,\n",
    "            \"optimizer\": {\"lr\": 0.0002, \"betas\": (0.5, 0.999)},\n",
    "            \"dataloader\": {\n",
    "                \"batch_size\": 256,\n",
    "                \"shuffle\": True,\n",
    "                \"num_workers\": 0,\n",
    "            },\n",
    "        },\n",
    "        \"callbacks\": [\n",
    "            training_callback,\n",
    "        ],\n",
    "    },\n",
    "    content_loss={\n",
    "        \"type\": ArrayGraph2DContentLoss,\n",
    "        # Uncomment if you want to enable checkpointing\n",
    "        # \"cache\": \"array_graph2d_content_loss.pkl\",\n",
    "    },\n",
    "    data={\n",
    "        \"loader\": functools.partial(\n",
    "            load_multiple_datasets_from_pt,\n",
    "            DATASET_DIR,\n",
    "            transforms=[To(device), View(1, 128, 128)],\n",
    "            limit=(4, 10),\n",
    "        )\n",
    "    },\n",
    "    animation={\n",
    "        \"indices\": [\n",
    "            0,\n",
    "        ],\n",
    "        \"save_path\": \"cnn_per_epoch_animation.mp4\",\n",
    "    },\n",
    "    plot={\n",
    "        \"grayscale\": {\"limit\": 10, \"save_path_fmt\": \"grayscale/%s_%02d.png\"},\n",
    "        \"surface\": {\"limit\": 10, \"save_path_fmt\": \"surface/%s_%02d.png\"},\n",
    "        \"against\": {\"save_path_fmt\": \"against_%s.png\"},\n",
    "    },\n",
    "    suppress_exceptions=False,\n",
    ")"
   ]
  },
  {
   "cell_type": "code",
   "execution_count": null,
   "id": "51717006",
   "metadata": {
    "colab": {
     "base_uri": "https://localhost:8080/",
     "height": 573
    },
    "id": "3c4cdce1",
    "outputId": "c22dfcc0-c6d9-4726-c197-acf11bdec52f"
   },
   "outputs": [],
   "source": [
    "training_flow(get_generator, get_discriminator)"
   ]
  },
  {
   "cell_type": "markdown",
   "id": "fcbd03eb",
   "metadata": {},
   "source": [
    "# 👋 Dismounting Google Drive and persisting any changes made"
   ]
  },
  {
   "cell_type": "code",
   "execution_count": null,
   "id": "3ca97e3a",
   "metadata": {},
   "outputs": [],
   "source": [
    "try:\n",
    "    from google.colab import drive\n",
    "\n",
    "    drive.flush_and_unmount()\n",
    "except ImportError:\n",
    "    pass"
   ]
  }
 ],
 "metadata": {
  "jupytext": {
   "encoding": "# -*- coding: utf-8 -*-",
   "formats": "ipynb,py:light",
   "main_language": "python"
  },
  "kernelspec": {
   "display_name": "",
   "name": ""
  }
 },
 "nbformat": 4,
 "nbformat_minor": 5
}
