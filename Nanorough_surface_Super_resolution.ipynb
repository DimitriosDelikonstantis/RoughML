{
 "cells": [
  {
   "cell_type": "markdown",
   "source": [
    "<a href=\"https://colab.research.google.com/github/billsioros/thesis/blob/master/Nanorough_surface_Super_resolution.ipynb\" target=\"_parent\"><img src=\"https://colab.research.google.com/assets/colab-badge.svg\" alt=\"Open In Colab\"/></a>"
   ],
   "metadata": {
    "colab_type": "text",
    "id": "view-in-github"
   }
  },
  {
   "cell_type": "markdown",
   "source": [
    "# ✔️ Prerequisites"
   ],
   "metadata": {
    "id": "cce26209"
   }
  },
  {
   "cell_type": "markdown",
   "source": [
    "First of all we need to take care of a few **prerequisites**, most notably:\n",
    "\n",
    "- Install the various pip modules that we will be using.\n",
    "- Install some linux specific dependencies of our [content loss](#content-loss).\n",
    "- Initialize the Random Number Generator(s), so that our experiments can be replicated.\n",
    "- Determine:\n",
    "  - The current working directory, as it's going to be used to reference various files such as the dataset, our model checkpoints e.t.c\n",
    "  - The available hardware backend. GPU utilization is preferable, as it results in higher complition time.\n",
    "- `(Optionally)` Mount Google Drive, where we can load our dataset from."
   ],
   "metadata": {
    "id": "affab565"
   }
  },
  {
   "cell_type": "markdown",
   "source": [
    "## Determining the Current Working Directory"
   ],
   "metadata": {
    "id": "19e0a6d0"
   }
  },
  {
   "cell_type": "code",
   "execution_count": null,
   "source": [
    "from pathlib import Path\n",
    "\n",
    "BASE_DIR = Path.cwd()"
   ],
   "outputs": [],
   "metadata": {
    "cellView": "code",
    "id": "945a9ccd"
   }
  },
  {
   "cell_type": "markdown",
   "source": [
    "## Mounting Google Drive"
   ],
   "metadata": {
    "id": "94c4d99f"
   }
  },
  {
   "cell_type": "code",
   "execution_count": null,
   "source": [
    "GDRIVE_DIR = BASE_DIR / \"drive\"\n",
    "\n",
    "try:\n",
    "    from google.colab import drive\n",
    "\n",
    "    drive.mount(f\"{GDRIVE_DIR}\")\n",
    "except ImportError:\n",
    "    pass"
   ],
   "outputs": [],
   "metadata": {
    "cellView": "code",
    "colab": {
     "base_uri": "https://localhost:8080/"
    },
    "id": "e24f0051",
    "outputId": "30ae6242-7890-45fb-97f4-7a3f98101b5c"
   }
  },
  {
   "cell_type": "code",
   "execution_count": null,
   "source": [
    "SECRETS_DIR = GDRIVE_DIR / \"MyDrive\" / \"Secrets\"\n",
    "\n",
    "if GDRIVE_DIR.is_dir():\n",
    "    THESIS_DIR = GDRIVE_DIR / \"MyDrive\" / \"Thesis\"\n",
    "else:\n",
    "    THESIS_DIR = BASE_DIR\n",
    "\n",
    "OUTPUT_DIR = THESIS_DIR / \"Output\"\n",
    "\n",
    "if THESIS_DIR.is_dir():\n",
    "    DATASET_DIR = THESIS_DIR / \"Datasets\"\n",
    "else:\n",
    "    DATASET_DIR = BASE_DIR / \"Datasets\""
   ],
   "outputs": [],
   "metadata": {}
  },
  {
   "cell_type": "markdown",
   "source": [
    "## Configuring our Loggers"
   ],
   "metadata": {}
  },
  {
   "cell_type": "code",
   "execution_count": null,
   "source": [
    "import os\n",
    "\n",
    "LOGGING_LEVEL = os.environ.get(\"LOGGING_LEVEL\", \"CRITICAL\").upper()\n",
    "\n",
    "LOGGING_CONFIG = {\n",
    "    \"version\": 1,\n",
    "    \"disable_existing_loggers\": False,\n",
    "    \"formatters\": {\n",
    "        \"standard\": {\"format\": \"[%(asctime)s] %(levelname)s:%(name)s: %(message)s\"}\n",
    "    },\n",
    "    \"handlers\": {\n",
    "        \"default\": {\n",
    "            \"level\": LOGGING_LEVEL,\n",
    "            \"formatter\": \"standard\",\n",
    "            \"class\": \"logging.StreamHandler\",\n",
    "        },\n",
    "        \"file\": {\n",
    "            \"level\": LOGGING_LEVEL,\n",
    "            \"formatter\": \"standard\",\n",
    "            \"class\": \"logging.FileHandler\",\n",
    "        },\n",
    "    },\n",
    "    \"loggers\": {\"\": {\"handlers\": [\"default\", \"file\"], \"level\": LOGGING_LEVEL}},\n",
    "}"
   ],
   "outputs": [],
   "metadata": {}
  },
  {
   "cell_type": "markdown",
   "source": [
    "## Installing [graphviz](https://graphviz.org/) & [libgraphviz-dev](https://packages.debian.org/jessie/libgraphviz-dev)"
   ],
   "metadata": {
    "id": "16a902e2"
   }
  },
  {
   "cell_type": "markdown",
   "source": [
    "The aforementioned packages are required by [PyINSECT](https://github.com/billsioros/PyINSECT/tree/implementing-HPGs) and more specifically its graph plotting methods."
   ],
   "metadata": {
    "id": "8c0cdd85"
   }
  },
  {
   "cell_type": "code",
   "execution_count": null,
   "source": [
    "!sudo apt-get install graphviz libgraphviz-dev 1> /dev/null"
   ],
   "outputs": [],
   "metadata": {
    "cellView": "code",
    "colab": {
     "base_uri": "https://localhost:8080/"
    },
    "id": "919734ca",
    "outputId": "0767e6fd-b55e-4ebc-9e0e-11b243700c1c"
   }
  },
  {
   "cell_type": "markdown",
   "source": [
    "## Installing the required `pip` modules"
   ],
   "metadata": {
    "id": "7f5668f4"
   }
  },
  {
   "cell_type": "markdown",
   "source": [
    "- [torch](https://pytorch.org/) is our machine learning framework of choice.\n",
    "- [numpy](https://numpy.org/), [sympy](https://www.sympy.org/en/index.html) and [scipy](https://www.scipy.org/) are used to in the context of nanorough surface generation.\n",
    "- [plotly](https://plotly.com/) (which requires [pandas](https://pandas.pydata.org/)) as well as [matplotlib](https://matplotlib.org/) are used in order to plot various graphs."
   ],
   "metadata": {
    "id": "aebad6f1"
   }
  },
  {
   "cell_type": "code",
   "execution_count": null,
   "source": [
    "WHEEL_VERSION = \"2.1.0\"\n",
    "WHEEL_FILE = \"roughml-%s-py3-none-any.whl\" % (WHEEL_VERSION,)\n",
    "WHEEL_PATH = THESIS_DIR / \"Binaries\" / WHEEL_FILE"
   ],
   "outputs": [],
   "metadata": {}
  },
  {
   "cell_type": "code",
   "execution_count": null,
   "source": [
    "import subprocess\n",
    "import sys\n",
    "\n",
    "pip_freeze_output = subprocess.check_output(\n",
    "    [sys.executable, \"-m\", \"pip\", \"freeze\"]\n",
    ").decode()\n",
    "\n",
    "if \"roughml\" not in pip_freeze_output:\n",
    "    if WHEEL_PATH.is_file():\n",
    "        subprocess.check_call([sys.executable, \"-m\", \"pip\", \"install\", WHEEL_PATH])\n",
    "    else:\n",
    "        raise FileNotFoundError(WHEEL_PATH)"
   ],
   "outputs": [],
   "metadata": {
    "cellView": "code",
    "colab": {
     "base_uri": "https://localhost:8080/"
    },
    "id": "1057687b",
    "outputId": "2ab1f525-0235-4308-cabb-a7793277473b"
   }
  },
  {
   "cell_type": "markdown",
   "source": [
    "## Initializing (a.k.a `Seeding`) the Random Number Generator(s)"
   ],
   "metadata": {
    "id": "0192c059"
   }
  },
  {
   "cell_type": "markdown",
   "source": [
    "We are required to seed various random number generation engines, so that our experiments can be replicated on a later date."
   ],
   "metadata": {
    "id": "fa44f756"
   }
  },
  {
   "cell_type": "code",
   "execution_count": null,
   "source": [
    "SEED = 1234\n",
    "\n",
    "import os\n",
    "import random\n",
    "\n",
    "import numpy as np"
   ],
   "outputs": [],
   "metadata": {
    "cellView": "code",
    "id": "5daee8da"
   }
  },
  {
   "cell_type": "code",
   "execution_count": null,
   "source": [
    "import torch\n",
    "\n",
    "if SEED is not None:\n",
    "    np.random.seed(SEED)\n",
    "    random.seed(SEED)\n",
    "    torch.manual_seed(SEED)\n",
    "    torch.cuda.manual_seed(SEED)\n",
    "    torch.backends.cudnn.deterministic = True\n",
    "    os.environ[\"PYTHONHASHSEED\"] = str(SEED)"
   ],
   "outputs": [],
   "metadata": {
    "cellView": "code",
    "id": "4d6c30c9"
   }
  },
  {
   "cell_type": "markdown",
   "source": [
    "## Determining available backend"
   ],
   "metadata": {
    "id": "6fce8a2a"
   }
  },
  {
   "cell_type": "markdown",
   "source": [
    "By default, we are going to be utilizing the available CPU backend, if no GPU is available."
   ],
   "metadata": {
    "id": "5ca328f8"
   }
  },
  {
   "cell_type": "code",
   "execution_count": null,
   "source": [
    "device = \"cpu\"\n",
    "if torch.cuda.is_available():\n",
    "    device = \"cuda:0\""
   ],
   "outputs": [],
   "metadata": {
    "cellView": "code",
    "id": "ebabd4a5"
   }
  },
  {
   "cell_type": "code",
   "execution_count": null,
   "source": [
    "device = torch.device(device)"
   ],
   "outputs": [],
   "metadata": {
    "cellView": "code",
    "id": "520ba5c1",
    "lines_to_next_cell": 2
   }
  },
  {
   "cell_type": "markdown",
   "source": [
    "## Setting up our callbacks"
   ],
   "metadata": {}
  },
  {
   "cell_type": "markdown",
   "source": [
    "### End-of-training callback"
   ],
   "metadata": {}
  },
  {
   "cell_type": "code",
   "execution_count": null,
   "source": [
    "from datetime import datetime\n",
    "\n",
    "from roughml.shared.notifiers import EndOfTrainingNotifier\n",
    "\n",
    "training_callback = None\n",
    "if SECRETS_DIR.is_dir():\n",
    "    notifier = EndOfTrainingNotifier.from_json(SECRETS_DIR / \"credentials.json\")\n",
    "\n",
    "    timestamp = datetime.now().strftime(\"%Y/%m/%d %H:%M:%S.%f\")\n",
    "\n",
    "    def training_callback(log_file=None, **context):\n",
    "        notifier(\n",
    "            (\"Vasilis Sioros\", \"billsioros97@gmail.com\"),\n",
    "            log_file=log_file,\n",
    "            dataset=context[\"dataset\"],\n",
    "            generator=context[\"generator\"],\n",
    "            discriminator=context[\"discriminator\"],\n",
    "            elapsed_time=context[\"elapsed_time\"],\n",
    "            succeeded=context[\"succeeded\"],\n",
    "            identifier=timestamp,\n",
    "        )"
   ],
   "outputs": [],
   "metadata": {
    "lines_to_end_of_cell_marker": 2
   }
  },
  {
   "cell_type": "markdown",
   "source": [
    "### Logging initialization callback"
   ],
   "metadata": {
    "lines_to_next_cell": 2
   }
  },
  {
   "cell_type": "code",
   "execution_count": null,
   "source": [
    "def logging_callback(config, logging_dir):\n",
    "    level = config.handlers.file.level.lower()\n",
    "\n",
    "    config.handlers.file.filename = logging_dir / f\"{level}.log\"\n",
    "\n",
    "    return config"
   ],
   "outputs": [],
   "metadata": {}
  },
  {
   "cell_type": "markdown",
   "source": [
    "# 🙃 A naive-approach"
   ],
   "metadata": {
    "id": "60d78d1e"
   }
  },
  {
   "cell_type": "markdown",
   "source": [
    "## Instantiating the **Generator** and the **Discriminator** Networks"
   ],
   "metadata": {
    "id": "ec374650"
   }
  },
  {
   "cell_type": "code",
   "execution_count": null,
   "source": [
    "from roughml.models import PerceptronGenerator\n",
    "\n",
    "generator = PerceptronGenerator.from_device(device)"
   ],
   "outputs": [],
   "metadata": {
    "cellView": "code",
    "id": "d6594cb1"
   }
  },
  {
   "cell_type": "code",
   "execution_count": null,
   "source": [
    "generator"
   ],
   "outputs": [],
   "metadata": {
    "cellView": "code",
    "colab": {
     "base_uri": "https://localhost:8080/"
    },
    "id": "4bff3a44",
    "outputId": "9d75bc1a-7272-4fdb-902d-e689a0627517"
   }
  },
  {
   "cell_type": "code",
   "execution_count": null,
   "source": [
    "from roughml.models import PerceptronDiscriminator\n",
    "\n",
    "discriminator = PerceptronDiscriminator.from_generator(generator)"
   ],
   "outputs": [],
   "metadata": {
    "cellView": "code",
    "id": "cac059ee"
   }
  },
  {
   "cell_type": "code",
   "execution_count": null,
   "source": [
    "discriminator"
   ],
   "outputs": [],
   "metadata": {
    "cellView": "code",
    "colab": {
     "base_uri": "https://localhost:8080/"
    },
    "id": "64022987",
    "outputId": "7adfec62-6485-49aa-c5e9-667d291b03e9"
   }
  },
  {
   "cell_type": "markdown",
   "source": [
    "## Training"
   ],
   "metadata": {
    "id": "eb813599"
   }
  },
  {
   "cell_type": "code",
   "execution_count": null,
   "source": [
    "from torch.nn import BCELoss\n",
    "\n",
    "criterion = BCELoss().to(device)"
   ],
   "outputs": [],
   "metadata": {
    "cellView": "code",
    "id": "8a131c21"
   }
  },
  {
   "cell_type": "code",
   "execution_count": null,
   "source": [
    "import functools\n",
    "\n",
    "from roughml.content.loss import NGramGraphContentLoss\n",
    "from roughml.data.loaders import load_multiple_datasets_from_pt\n",
    "from roughml.data.transforms import To, View\n",
    "from roughml.training.flow import TrainingFlow\n",
    "from roughml.training.manager import per_epoch\n",
    "\n",
    "training_flow = TrainingFlow(\n",
    "    output_dir=OUTPUT_DIR,\n",
    "    logging={\"config\": LOGGING_CONFIG, \"callback\": logging_callback},\n",
    "    training={\n",
    "        \"manager\": {\n",
    "            \"benchmark\": True,\n",
    "            \"checkpoint\": {\"multiple\": True},\n",
    "            \"train_epoch\": per_epoch,\n",
    "            \"log_every_n\": 10,\n",
    "            \"criterion\": {\"instance\": criterion},\n",
    "            \"n_epochs\": 10,\n",
    "            \"train_ratio\": 0.8,\n",
    "            \"optimizer\": {\"lr\": 0.0005, \"weight_decay\": 0},\n",
    "            \"dataloader\": {\n",
    "                \"batch_size\": 256,\n",
    "                \"shuffle\": True,\n",
    "                \"num_workers\": 0,\n",
    "            },\n",
    "        },\n",
    "        \"callbacks\": [\n",
    "            training_callback,\n",
    "        ],\n",
    "    },\n",
    "    content_loss={\n",
    "        \"type\": NGramGraphContentLoss,\n",
    "        \"cache\": \"n_gram_graph_content_loss.pkl\",\n",
    "    },\n",
    "    data={\n",
    "        \"loader\": functools.partial(\n",
    "            load_multiple_datasets_from_pt,\n",
    "            DATASET_DIR,\n",
    "            transforms=[To(device), View(1, 128, 128)],\n",
    "            limit=4,\n",
    "        )\n",
    "    },\n",
    "    animation={\n",
    "        \"indices\": [\n",
    "            0,\n",
    "        ],\n",
    "        \"save_path\": \"cnn_per_epoch_animation.mp4\",\n",
    "    },\n",
    "    plot={\n",
    "        \"grayscale\": {\"limit\": 10, \"save_path_fmt\": \"grayscale/%s_%02d.png\"},\n",
    "        \"surface\": {\"limit\": 10, \"save_path_fmt\": \"surface/%s_%02d.png\"},\n",
    "        \"against\": {\"save_path_fmt\": \"against_%s.png\"},\n",
    "    },\n",
    ")"
   ],
   "outputs": [],
   "metadata": {
    "cellView": "code",
    "id": "63114157"
   }
  },
  {
   "cell_type": "code",
   "execution_count": null,
   "source": [
    "training_flow(generator, discriminator)"
   ],
   "outputs": [],
   "metadata": {
    "colab": {
     "base_uri": "https://localhost:8080/",
     "height": 573
    },
    "id": "836ed418",
    "outputId": "f4d7ef3c-027c-4725-9f07-50e4d7c28ff1",
    "tags": []
   }
  },
  {
   "cell_type": "markdown",
   "source": [
    "# 😎 A CNN based approach"
   ],
   "metadata": {
    "id": "fe589c1a"
   }
  },
  {
   "cell_type": "markdown",
   "source": [
    "## Instantiating the **Generator** and the **Discriminator** Networks"
   ],
   "metadata": {
    "id": "b16a4946"
   }
  },
  {
   "cell_type": "code",
   "execution_count": null,
   "source": [
    "from roughml.models import CNNGenerator\n",
    "\n",
    "generator = CNNGenerator.from_device(device)"
   ],
   "outputs": [],
   "metadata": {
    "cellView": "code",
    "id": "e301a7a0"
   }
  },
  {
   "cell_type": "code",
   "execution_count": null,
   "source": [
    "generator"
   ],
   "outputs": [],
   "metadata": {
    "cellView": "code",
    "colab": {
     "base_uri": "https://localhost:8080/"
    },
    "id": "36ffe487",
    "outputId": "eb6bbc54-4dd6-48f7-bf24-20becc244a3a"
   }
  },
  {
   "cell_type": "code",
   "execution_count": null,
   "source": [
    "from roughml.models import CNNDiscriminator\n",
    "\n",
    "discriminator = CNNDiscriminator.from_device(device)"
   ],
   "outputs": [],
   "metadata": {
    "cellView": "code",
    "id": "5a8a9aad"
   }
  },
  {
   "cell_type": "code",
   "execution_count": null,
   "source": [
    "discriminator"
   ],
   "outputs": [],
   "metadata": {
    "cellView": "code",
    "colab": {
     "base_uri": "https://localhost:8080/"
    },
    "id": "1d0a4a40",
    "outputId": "2c54123a-5dce-4405-a82e-a28c832e678e"
   }
  },
  {
   "cell_type": "markdown",
   "source": [
    "## Training"
   ],
   "metadata": {
    "id": "7bbbcc22"
   }
  },
  {
   "cell_type": "code",
   "execution_count": null,
   "source": [
    "from torch.nn import BCELoss\n",
    "\n",
    "criterion = BCELoss().to(device)"
   ],
   "outputs": [],
   "metadata": {
    "cellView": "code",
    "id": "45778b4c"
   }
  },
  {
   "cell_type": "code",
   "execution_count": null,
   "source": [
    "import functools\n",
    "\n",
    "from roughml.content.loss import ArrayGraph2DContentLoss\n",
    "from roughml.data.transforms import To, View\n",
    "from roughml.training.flow import TrainingFlow\n",
    "from roughml.training.manager import per_epoch\n",
    "\n",
    "training_flow = TrainingFlow(\n",
    "    output_dir=OUTPUT_DIR,\n",
    "    logging={\"config\": LOGGING_CONFIG, \"callback\": logging_callback},\n",
    "    training={\n",
    "        \"manager\": {\n",
    "            \"benchmark\": True,\n",
    "            \"checkpoint\": {\"multiple\": True},\n",
    "            \"train_epoch\": per_epoch,\n",
    "            \"log_every_n\": 10,\n",
    "            \"criterion\": {\"instance\": criterion},\n",
    "            \"n_epochs\": 10,\n",
    "            \"train_ratio\": 0.8,\n",
    "            \"optimizer\": {\"lr\": 0.0002, \"betas\": (0.5, 0.999)},\n",
    "            \"dataloader\": {\n",
    "                \"batch_size\": 256,\n",
    "                \"shuffle\": True,\n",
    "                \"num_workers\": 0,\n",
    "            },\n",
    "        },\n",
    "        \"callbacks\": [\n",
    "            training_callback,\n",
    "        ],\n",
    "    },\n",
    "    content_loss={\n",
    "        \"type\": ArrayGraph2DContentLoss,\n",
    "        \"cache\": \"array_graph2d_content_loss.pkl\",\n",
    "    },\n",
    "    data={\n",
    "        \"loader\": functools.partial(\n",
    "            load_multiple_datasets_from_pt,\n",
    "            DATASET_DIR,\n",
    "            transforms=[To(device), View(1, 128, 128)],\n",
    "            limit=4,\n",
    "        )\n",
    "    },\n",
    "    animation={\n",
    "        \"indices\": [\n",
    "            0,\n",
    "        ],\n",
    "        \"save_path\": \"cnn_per_epoch_animation.mp4\",\n",
    "    },\n",
    "    plot={\n",
    "        \"grayscale\": {\"limit\": 10, \"save_path_fmt\": \"grayscale/%s_%02d.png\"},\n",
    "        \"surface\": {\"limit\": 10, \"save_path_fmt\": \"surface/%s_%02d.png\"},\n",
    "        \"against\": {\"save_path_fmt\": \"against_%s.png\"},\n",
    "    },\n",
    ")"
   ],
   "outputs": [],
   "metadata": {
    "cellView": "code",
    "id": "82fb12f6"
   }
  },
  {
   "cell_type": "code",
   "execution_count": null,
   "source": [
    "training_flow(generator, discriminator)"
   ],
   "outputs": [],
   "metadata": {
    "colab": {
     "base_uri": "https://localhost:8080/",
     "height": 573
    },
    "id": "3c4cdce1",
    "outputId": "c22dfcc0-c6d9-4726-c197-acf11bdec52f"
   }
  },
  {
   "cell_type": "markdown",
   "source": [
    "# 👋 Dismounting Google Drive and persisting any changes made"
   ],
   "metadata": {}
  },
  {
   "cell_type": "code",
   "execution_count": null,
   "source": [
    "try:\n",
    "    from google.colab import drive\n",
    "\n",
    "    drive.flush_and_unmount()\n",
    "except ImportError:\n",
    "    pass"
   ],
   "outputs": [],
   "metadata": {}
  }
 ],
 "metadata": {
  "jupytext": {
   "encoding": "# -*- coding: utf-8 -*-",
   "formats": "ipynb,py:light",
   "main_language": "python"
  },
  "kernelspec": {
   "display_name": "",
   "name": ""
  }
 },
 "nbformat": 4,
 "nbformat_minor": 5
}
